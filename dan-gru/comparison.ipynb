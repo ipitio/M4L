{
 "cells": [
  {
   "cell_type": "markdown",
   "metadata": {},
   "source": [
    "# Comparing DAN and GRU\n"
   ]
  },
  {
   "cell_type": "markdown",
   "metadata": {},
   "source": [
    "## Imports\n"
   ]
  },
  {
   "cell_type": "code",
   "execution_count": null,
   "metadata": {},
   "outputs": [
    {
     "data": {
      "text/plain": [
       "<torch._C.Generator at 0x7fb438c63b90>"
      ]
     },
     "execution_count": null,
     "metadata": {},
     "output_type": "execute_result"
    }
   ],
   "source": [
    "# fix colab utf-8 error\n",
    "import locale\n",
    "\n",
    "\n",
    "def getpreferredencoding(do_setlocale=True):\n",
    "    return \"UTF-8\"\n",
    "\n",
    "\n",
    "locale.getpreferredencoding = getpreferredencoding\n",
    "\n",
    "# inbuilt lib imports:\n",
    "from collections import Counter\n",
    "from typing import List, Dict, Tuple, Any\n",
    "import json\n",
    "import os\n",
    "import zipfile\n",
    "import random\n",
    "import requests\n",
    "import io\n",
    "\n",
    "# external lib imports:\n",
    "import numpy as np\n",
    "import matplotlib.pyplot as plt\n",
    "from tqdm import tqdm\n",
    "import spacy\n",
    "import torch\n",
    "import torch.nn as nn\n",
    "import torch.nn.functional as F\n",
    "from torch.utils.tensorboard.writer import SummaryWriter\n",
    "\n",
    "import copy\n",
    "\n",
    "# NLP library with many language related datasets and functions\n",
    "nlp = spacy.load(\"en_core_web_sm\", disable=[\"ner\", \"tagger\", \"parser\", \"textcat\"])\n",
    "\n",
    "np.random.seed(1337)\n",
    "torch.manual_seed(1337)\n",
    "\n",
    "try:\n",
    "    from google.colab import drive\n",
    "    drive.mount(\"/content/drive\", force_remount=True)\n",
    "    %cd \"/content/drive/MyDrive/M4L/dan-gru\"\n",
    "except:\n",
    "    pass"
   ]
  },
  {
   "cell_type": "markdown",
   "metadata": {},
   "source": [
    "## Datasets\n"
   ]
  },
  {
   "cell_type": "markdown",
   "metadata": {},
   "source": [
    "We use two classification datasets stored in `data/`:\n",
    "\n",
    "1. **IMDB Sentiment:** A sample of the original dataset, which has annotations on whether the IMDB review is positive or negative. In our preprocessed version, positive is labeled 1 and negative 0. There are dev and several test sets.\n",
    "\n",
    "2. **Bigram Order:** A binary classification of whether a bigram is in the correct order or reversed. For example, `New York` is 1 and `York New` 0. It's in the same format as the IMDB sentiment dataset. There are train, dev, and test sets.\n",
    "\n",
    "We will read and index the dataset, generate and manage the vocabulary, load the embedding files, and generate batches.\n"
   ]
  },
  {
   "cell_type": "code",
   "execution_count": null,
   "metadata": {},
   "outputs": [],
   "source": [
    "def read_instances(\n",
    "    data_file_path: str, max_allowed_num_tokens: int = 150\n",
    ") -> List[Dict]:\n",
    "    \"\"\"\n",
    "    Reads raw classification dataset from a file and returns a list\n",
    "    of dicts where each dict defines an instance.\n",
    "\n",
    "    @param data_file_path: path to the file containing the dataset\n",
    "    @param max_allowed_num_tokens: maximum allowed number of tokens in an instance\n",
    "    \"\"\"\n",
    "    instances = []\n",
    "    with open(data_file_path) as file:\n",
    "        for line in tqdm(file.readlines()):\n",
    "            instance = json.loads(line.strip())\n",
    "            text = instance[\"text\"]\n",
    "            tokens = [token.text.lower() for token in nlp.tokenizer(text)][\n",
    "                :max_allowed_num_tokens\n",
    "            ]\n",
    "            instance[\"labels\"] = instance.pop(\"label\", None)\n",
    "            instance[\"text_tokens\"] = tokens\n",
    "            instance.pop(\"text\")\n",
    "            instances.append(instance)\n",
    "    return instances\n",
    "\n",
    "\n",
    "def build_vocabulary(\n",
    "    instances: List[Dict], vocab_size: int, add_tokens: List[str]\n",
    ") -> Tuple[Dict, Dict]:\n",
    "    \"\"\"\n",
    "    Given the instances and max vocab size, this function builds the\n",
    "    token to index and index to token vocabularies. If list of add_tokens are\n",
    "    passed, those words will be added first.\n",
    "\n",
    "    @param instances: list of dicts where each dict defines an instance\n",
    "    @param vocab_size: maximum allowed size of the vocabulary\n",
    "    @param add_tokens: list of tokens to be added to the vocabulary\n",
    "    \"\"\"\n",
    "    print(\"\\nBuilding Vocabulary.\")\n",
    "\n",
    "    # make sure pad_token is on index 0\n",
    "    UNK_TOKEN = \"@UNK@\"\n",
    "    PAD_TOKEN = \"@PAD@\"\n",
    "    token_to_id = {PAD_TOKEN: 0, UNK_TOKEN: 1}\n",
    "\n",
    "    # First add tokens which were explicitly passed.\n",
    "    add_tokens = add_tokens or []\n",
    "    for token in add_tokens:\n",
    "        if not token.lower() in token_to_id:\n",
    "            token_to_id[token] = len(token_to_id)\n",
    "\n",
    "    # Add remaining tokens from the instances as the space permits\n",
    "    words = []\n",
    "    for instance in instances:\n",
    "        words.extend(instance[\"text_tokens\"])\n",
    "    token_counts = dict(Counter(words).most_common(vocab_size))\n",
    "    for token, _ in token_counts.items():\n",
    "        if token not in token_to_id:\n",
    "            token_to_id[token] = len(token_to_id)\n",
    "        if len(token_to_id) == vocab_size:\n",
    "            break\n",
    "    # Make reverse vocabulary lookup\n",
    "    id_to_token = dict(zip(token_to_id.values(), token_to_id.keys()))\n",
    "    return (token_to_id, id_to_token)\n",
    "\n",
    "\n",
    "def save_vocabulary(vocab_id_to_token: Dict[int, str], vocabulary_path: str) -> None:\n",
    "    \"\"\"\n",
    "    Saves vocabulary to vocabulary_path.\n",
    "\n",
    "    @param vocab_id_to_token: index to token mapping\n",
    "    @param vocabulary_path: path to save the vocabulary\n",
    "    \"\"\"\n",
    "    with open(vocabulary_path, \"w\", encoding=\"utf-8\") as file:\n",
    "        # line number is the index of the token\n",
    "        for idx in range(len(vocab_id_to_token)):\n",
    "            file.write(vocab_id_to_token[idx] + \"\\n\")\n",
    "\n",
    "\n",
    "def load_vocabulary(vocabulary_path: str) -> Tuple[Dict[str, int], Dict[int, str]]:\n",
    "    \"\"\"\n",
    "    Loads vocabulary from vocabulary_path.\n",
    "\n",
    "    @param vocabulary_path: path to load the vocabulary\n",
    "    \"\"\"\n",
    "    vocab_id_to_token = {}\n",
    "    vocab_token_to_id = {}\n",
    "    with open(vocabulary_path, \"r\", encoding=\"utf-8\") as file:\n",
    "        for index, token in enumerate(file):\n",
    "            token = token.strip()\n",
    "            if not token:\n",
    "                continue\n",
    "            vocab_id_to_token[index] = token\n",
    "            vocab_token_to_id[token] = index\n",
    "    return (vocab_token_to_id, vocab_id_to_token)\n",
    "\n",
    "\n",
    "def load_glove_embeddings(\n",
    "    embeddings_txt_file: str, embedding_dim: int, vocab_id_to_token: Dict[int, str]\n",
    ") -> np.ndarray:\n",
    "    \"\"\"\n",
    "    Given a vocabulary (mapping from index to token), this function builds\n",
    "    an embedding matrix of vocabulary size in which ith row vector is an\n",
    "    entry from pretrained embeddings (loaded from embeddings_txt_file).\n",
    "\n",
    "    @param embeddings_txt_file: path to the file containing pretrained embeddings\n",
    "    @param embedding_dim: dimension of the pretrained embeddings\n",
    "    @param vocab_id_to_token: index to token mapping\n",
    "    \"\"\"\n",
    "    tokens_to_keep = set(vocab_id_to_token.values())\n",
    "    vocab_size = len(vocab_id_to_token)\n",
    "\n",
    "    embeddings = {}\n",
    "    print(\"\\nReading pretrained embedding file.\")\n",
    "    with open(embeddings_txt_file, encoding=\"utf-8\") as file:\n",
    "        for line in tqdm(file):\n",
    "            line = str(line).strip()\n",
    "            token = line.split(\" \", 1)[0]\n",
    "            if not token in tokens_to_keep:\n",
    "                continue\n",
    "            fields = line.rstrip().split(\" \")\n",
    "            if len(fields) - 1 != embedding_dim:\n",
    "                raise Exception(\n",
    "                    f\"Pretrained embedding vector and expected \"\n",
    "                    f\"embedding_dim do not match for {token}.\"\n",
    "                )\n",
    "                continue\n",
    "            vector = np.asarray(fields[1:], dtype=\"float32\")\n",
    "            embeddings[token] = vector\n",
    "\n",
    "    # Estimate mean and std variation in embeddings and initialize it random normally with it\n",
    "    all_embeddings = np.asarray(list(embeddings.values()))\n",
    "    embeddings_mean = float(np.mean(all_embeddings))\n",
    "    embeddings_std = float(np.std(all_embeddings))\n",
    "\n",
    "    embedding_matrix = np.random.normal(\n",
    "        embeddings_mean, embeddings_std, (vocab_size, embedding_dim)\n",
    "    )\n",
    "    embedding_matrix = np.asarray(embedding_matrix, dtype=\"float32\")\n",
    "\n",
    "    for idx, token in vocab_id_to_token.items():\n",
    "        if token in embeddings:\n",
    "            embedding_matrix[idx] = embeddings[token]\n",
    "\n",
    "    return embedding_matrix\n",
    "\n",
    "\n",
    "def index_instances(instances: List[Dict], token_to_id: Dict) -> List[Dict]:\n",
    "    \"\"\"\n",
    "    Uses the vocabulary to index the fields of the instances. This function\n",
    "    prepares the instances to be tensorized.\n",
    "\n",
    "    @param instances: list of dicts where each dict defines an instance\n",
    "    @param token_to_id: token to index mapping\n",
    "    \"\"\"\n",
    "    for instance in instances:\n",
    "        token_ids = []\n",
    "        for token in instance[\"text_tokens\"]:\n",
    "            if token in token_to_id:\n",
    "                token_ids.append(token_to_id[token])\n",
    "            else:\n",
    "                token_ids.append(1)  # 1 is index for UNK\n",
    "        instance[\"text_tokens_ids\"] = token_ids\n",
    "        instance.pop(\"text_tokens\")\n",
    "    return instances\n",
    "\n",
    "\n",
    "def generate_batches(instances: List[Dict], batch_size) -> List[Dict[str, np.ndarray]]:\n",
    "    \"\"\"\n",
    "    Generates and returns batch of tensorized instances in a chunk of batch_size.\n",
    "\n",
    "    @param instances: list of dicts where each dict defines an instance\n",
    "    @param batch_size: size of the batch\n",
    "    \"\"\"\n",
    "\n",
    "    def chunk(items: List[Any], num: int):\n",
    "        return [items[index : index + num] for index in range(0, len(items), num)]\n",
    "\n",
    "    # Create padded instances list to make sure all batches are of same size\n",
    "    padded_instances = instances[:]\n",
    "    num_missing = (batch_size - len(instances) % batch_size) % batch_size\n",
    "    padded_instances += [\n",
    "        {\n",
    "            \"text_tokens_ids\": instances[index % len(instances)][\"text_tokens_ids\"],\n",
    "            \"padding\": True,\n",
    "        }\n",
    "        for index in range(num_missing)\n",
    "    ]\n",
    "\n",
    "    # Create batches of instances\n",
    "    batches_of_instances = chunk(padded_instances, batch_size)\n",
    "\n",
    "    batches = []\n",
    "    for batch_of_instances in tqdm(batches_of_instances):\n",
    "        num_token_ids = [\n",
    "            len(instance[\"text_tokens_ids\"]) for instance in batch_of_instances\n",
    "        ]\n",
    "        max_num_token_ids = max(num_token_ids)\n",
    "\n",
    "        count = min(batch_size, len(batch_of_instances))\n",
    "        batch = {\"inputs\": np.zeros((count, max_num_token_ids), dtype=np.int32)}\n",
    "        if \"labels\" in batch_of_instances[0]:\n",
    "            batch[\"labels\"] = np.zeros(count, dtype=np.int32)\n",
    "\n",
    "        for batch_index, instance in enumerate(batch_of_instances):\n",
    "            num_tokens = len(instance[\"text_tokens_ids\"])\n",
    "            inputs = np.array(instance[\"text_tokens_ids\"])\n",
    "            batch[\"inputs\"][batch_index][:num_tokens] = inputs\n",
    "\n",
    "            if \"labels\" in instance:\n",
    "                batch[\"labels\"][batch_index] = np.array(instance[\"labels\"])\n",
    "        batches.append(batch)\n",
    "\n",
    "    return batches"
   ]
  },
  {
   "cell_type": "code",
   "execution_count": null,
   "metadata": {},
   "outputs": [],
   "source": [
    "r = requests.get(\"https://zenodo.org/records/4925376/files/glove.6B.50d.zip?download=1\")\n",
    "z = zipfile.ZipFile(io.BytesIO(r.content))\n",
    "z.extractall(\"data\")\n",
    "\n",
    "# Data paths\n",
    "imdb_sentiment_dev_path = \"data/imdb_sentiment_dev.jsonl\"\n",
    "imdb_sentiment_train_5k_path = \"data/imdb_sentiment_train_5k.jsonl\"\n",
    "imdb_sentiment_train_10k_path = \"data/imdb_sentiment_train_10k.jsonl\"\n",
    "imdb_sentiment_train_15k_path = \"data/imdb_sentiment_train_15k.jsonl\"\n",
    "imdb_sentiment_test_path = \"data/imdb_sentiment_test.jsonl\"\n",
    "\n",
    "bigram_order_train_path = \"data/bigram_order_train.jsonl\"\n",
    "bigram_order_dev_path = \"data/bigram_order_dev.jsonl\"\n",
    "bigram_order_test_path = \"data/bigram_order_test.jsonl\"\n",
    "\n",
    "pretrained_embedding_path = \"data/glove.6B.50d.txt\""
   ]
  },
  {
   "cell_type": "markdown",
   "metadata": {},
   "source": [
    "## Models\n"
   ]
  },
  {
   "cell_type": "markdown",
   "metadata": {},
   "source": [
    "There are two kinds of models in this notebook: main and probing.\n",
    "\n",
    "- The main model is a simple classifier which can be instantiated using either DAN or GRU sequence encoders.\n",
    "\n",
    "- The probing model is built on top of a pretrained main model. It takes frozen representations from nth layer of a pretrained main model and then trains a classifier using those representations.\n",
    "\n",
    "Probing is a method that tests the amount of information flowing from one layer to another in a neural network model. For example, if we have a 4 layer model and want to test the amount of information flowing from the second layer to the third layer, then we must take all the outputs from the second layer that are going to the third layer and test if they have sufficient information for the classification task. Thus, these outputs from the second layer are sent into a linear classifier that is trained to perform the classification. Linear probes that perform well on a given layer indicate that the underlying layers have extracted enough information from the data for the classification task.\n"
   ]
  },
  {
   "cell_type": "code",
   "execution_count": null,
   "metadata": {},
   "outputs": [],
   "source": [
    "class SequenceToVector(nn.Module):\n",
    "    \"\"\"\n",
    "    This is an abstract class defining the SequenceToVector encoder.\n",
    "    \"\"\"\n",
    "\n",
    "    def __init__(self, input_dim: int):\n",
    "        \"\"\"\n",
    "        @param input_dim: Last dimension of the input input vector sequence that\n",
    "                          this SentenceToVector encoder will encounter.\n",
    "        \"\"\"\n",
    "        super(SequenceToVector, self).__init__()\n",
    "        self._input_dim = input_dim\n",
    "\n",
    "    def forward(\n",
    "        self, vector_sequence: torch.Tensor, sequence_mask: torch.Tensor, training=False\n",
    "    ) -> Dict[str, torch.Tensor]:\n",
    "        \"\"\"\n",
    "        Forward pass of Main Classifier. It returns a single final vector (combined_vector) for each input sentence but also\n",
    "        the intermediate representation vectors from each feedforward layer (layer_representations).\n",
    "\n",
    "        @param vector_sequence: Sequence of embedded vectors of shape (batch_size, max_tokens_num, embedding_dim)\n",
    "        @param sequence_mask: Boolean tensor of shape (batch_size, max_tokens_num). Entries with 1 indicate that\n",
    "                              token is a real token, and 0 indicate that it's a padding token.\n",
    "        @param training: Whether this call is in training mode or prediction mode.\n",
    "        \"\"\"\n",
    "        raise NotImplementedError\n",
    "\n",
    "\n",
    "class DanSequenceToVector(SequenceToVector):\n",
    "    def __init__(\n",
    "        self,\n",
    "        input_dim: int,\n",
    "        num_layers: int,\n",
    "        dropout: float = 0.2,\n",
    "        device=\"cuda\" if torch.cuda.is_available() else \"cpu\",\n",
    "    ):\n",
    "        super(DanSequenceToVector, self).__init__(input_dim)\n",
    "        self.layers = nn.ModuleList()\n",
    "        self.dropout = nn.Dropout(p=dropout)\n",
    "\n",
    "        for i in range(num_layers - 1):\n",
    "            self.layers.append(nn.Linear(input_dim, input_dim))\n",
    "            # self.layers.append(self.dropout)\n",
    "\n",
    "        self.layers.append(nn.Linear(input_dim, input_dim, bias=False))\n",
    "\n",
    "        self.to(device)\n",
    "\n",
    "    def forward(\n",
    "        self, vector_sequence: torch.Tensor, sequence_mask: torch.Tensor, training=False\n",
    "    ):\n",
    "        \"\"\"\n",
    "        This DAN implementation outputs a single final vector (combined_vector) for each input sentence but also\n",
    "        the intermediate representation vectors from each feedforward layer (layer_representations).\n",
    "\n",
    "        DAN first computes the average of the embeddings of the words in the input sentence.\n",
    "        Then, this average is passed through given number of feed-forward layers.\n",
    "        The intermediate vectors are needed for other analysis later.\n",
    "        The final vector is used for classification.\n",
    "\n",
    "        @param vector_sequence: Sequence of embedded vectors of shape (batch_size, max_tokens_num, embedding_dim)\n",
    "        @param sequence_mask: Boolean tensor of shape (batch_size, max_tokens_num). Entries with 1 indicate that\n",
    "                                token is a real token, and 0 indicate that it's a padding token.\n",
    "        @param training: Whether this call is in training mode or prediction mode.\n",
    "        \"\"\"\n",
    "        if training:\n",
    "            vector_sequence = self.dropout(vector_sequence)\n",
    "        combined_vector = torch.sum(vector_sequence, dim=1)\n",
    "        combined_vector = combined_vector / torch.sum(sequence_mask, dim=1).unsqueeze(1)\n",
    "        combined_vector = torch.nan_to_num(\n",
    "            combined_vector, nan=0.0, posinf=0.0, neginf=0.0\n",
    "        )\n",
    "\n",
    "        layer_representations = []\n",
    "        for i, layer in enumerate(self.layers):\n",
    "            combined_vector = layer(combined_vector)\n",
    "            if (\n",
    "                i != len(self.layers) - 1\n",
    "            ):  # Apply ReLU activation to the first n-1 layers\n",
    "                combined_vector = F.relu(combined_vector)\n",
    "            layer_representations.append(combined_vector)\n",
    "\n",
    "        return {\n",
    "            \"combined_vector\": combined_vector,\n",
    "            \"layer_representations\": torch.stack(layer_representations, dim=1),\n",
    "        }\n",
    "\n",
    "\n",
    "class GruSequenceToVector(SequenceToVector):\n",
    "    def __init__(\n",
    "        self,\n",
    "        input_dim: int,\n",
    "        num_layers: int,\n",
    "        device=\"cuda\" if torch.cuda.is_available() else \"cpu\",\n",
    "    ):\n",
    "        super(GruSequenceToVector, self).__init__(input_dim)\n",
    "        self.gru = nn.GRU(input_dim, input_dim, num_layers=num_layers, batch_first=True)\n",
    "        self.to(device)\n",
    "\n",
    "    def forward(\n",
    "        self, vector_sequence: torch.Tensor, sequence_mask: torch.Tensor, training=False\n",
    "    ):\n",
    "        # Find the sequence lengths based on the sequence_mask and use it to pack the padded sequence that is passed to the GRU\n",
    "        sequence_lengths = sequence_mask.sum(dim=1)\n",
    "        packed_input = nn.utils.rnn.pack_padded_sequence(\n",
    "            vector_sequence,\n",
    "            sequence_lengths.cpu(),\n",
    "            batch_first=True,\n",
    "            enforce_sorted=False,\n",
    "        )\n",
    "        packed_output, hidden_states = self.gru(packed_input)\n",
    "\n",
    "        # Unpack the output to obtain the output tensor and the last hidden state\n",
    "        output, _ = nn.utils.rnn.pad_packed_sequence(packed_output, batch_first=True)\n",
    "        combined_vector = output[\n",
    "            torch.arange(output.size(0)), (sequence_lengths - 1).long()\n",
    "        ]\n",
    "\n",
    "        # Stack the hidden states\n",
    "        layer_representations = hidden_states.permute(1, 0, 2)\n",
    "\n",
    "        return {\n",
    "            \"combined_vector\": combined_vector,\n",
    "            \"layer_representations\": layer_representations,\n",
    "        }\n",
    "\n",
    "\n",
    "class ProbingClassifier(nn.Module):\n",
    "    def __init__(\n",
    "        self,\n",
    "        pretrained_model_path: str,\n",
    "        layer_num: int,\n",
    "        input_dim: int,\n",
    "        classes_num: int,\n",
    "        device: str = \"cuda\" if torch.cuda.is_available() else \"cpu\",\n",
    "    ):\n",
    "        \"\"\"\n",
    "        It loads a pretrained main model. On the given input, it takes\n",
    "        the representations it generates on certain layer and learns a\n",
    "        linear classifier on top of these frozen features.\n",
    "\n",
    "        @param pretrained_model_path: path to the pretrained model\n",
    "        @param layer_num: layer number from which to extract the representations\n",
    "        @param input_dim: input dimension of the probing classifier\n",
    "        @param classes_num: number of classes in the classification task\n",
    "        @param device: device to run the probing classifier on\n",
    "        \"\"\"\n",
    "        super(ProbingClassifier, self).__init__()\n",
    "        self.device = device\n",
    "\n",
    "        self._pretrained_model = load_pretrained_model(\n",
    "            pretrained_model_path, device=device\n",
    "        ).to(device)\n",
    "        for param in self._pretrained_model.parameters():\n",
    "            param.requires_grad = False\n",
    "        self._layer_num = layer_num\n",
    "        self.device = device\n",
    "\n",
    "        # Initialize the linear probing layer\n",
    "        self.probing_layer = nn.Linear(input_dim, classes_num)\n",
    "\n",
    "    def forward(self, inputs: torch.Tensor, training: bool = False):\n",
    "        inputs = inputs.to(self.device)\n",
    "        \"\"\"\n",
    "        Forward pass of Probing Classifier.\n",
    "\n",
    "        @param inputs: input tensor of shape (batch_size, max_tokens_num)\n",
    "        @param training: Whether this call is in training mode or prediction mode.\n",
    "        \"\"\"\n",
    "\n",
    "        # Forward pass through the pretrained model\n",
    "        with torch.no_grad():\n",
    "            output = self._pretrained_model(inputs, training=training)\n",
    "\n",
    "        # Extract the layer representations and apply the linear probe on them\n",
    "        layer_representations = output[\"layer_representations\"][self._layer_num]\n",
    "        logits = self.probing_layer(layer_representations)\n",
    "\n",
    "        return {\"logits\": logits}"
   ]
  },
  {
   "cell_type": "markdown",
   "metadata": {},
   "source": [
    "## Training and Testing Framework\n"
   ]
  },
  {
   "cell_type": "markdown",
   "metadata": {},
   "source": [
    "Functions for training, saving, and evaluating the models.\n"
   ]
  },
  {
   "cell_type": "code",
   "execution_count": null,
   "metadata": {},
   "outputs": [],
   "source": [
    "def cross_entropy_loss(logits, labels):\n",
    "    # Make sure that the parameters are of the correct type and shape\n",
    "    logits = logits.to(torch.float32)\n",
    "    labels = labels.to(torch.int64)\n",
    "    min_batch_size = min(logits.size(0), labels.size(0))\n",
    "    logits = logits[:min_batch_size]\n",
    "    labels = labels[:min_batch_size]\n",
    "    return nn.CrossEntropyLoss()(logits, labels)\n",
    "\n",
    "\n",
    "class MainClassifier(nn.Module):\n",
    "    def __init__(\n",
    "        self,\n",
    "        seq2vec_choice: str,\n",
    "        vocab_size: int,\n",
    "        embedding_dim: int,\n",
    "        num_layers: int = 2,\n",
    "        num_classes: int = 2,\n",
    "        device: str = \"cuda\" if torch.cuda.is_available() else \"cpu\",\n",
    "    ):\n",
    "        \"\"\"\n",
    "        Wrapper model for DAN or GRU sentence encoder.\n",
    "        We define the trainable variables in the initializer.\n",
    "\n",
    "        @param seq2vec_choice: choice of sequence to vector layer. It can be either\n",
    "            \"dan\" or \"gru\".\n",
    "        @param vocab_size: size of the vocabulary\n",
    "        @param embedding_dim: dimension of the word embeddings\n",
    "        @param num_layers: number of layers in the sequence to vector layer\n",
    "        @param num_classes: number of classes in the classification task\n",
    "        @param device: device to store the model and tensors\n",
    "        \"\"\"\n",
    "        super(MainClassifier, self).__init__()\n",
    "        self.device = device\n",
    "\n",
    "        if seq2vec_choice == \"dan\":\n",
    "            self._seq2vec_layer = DanSequenceToVector(\n",
    "                embedding_dim, num_layers, device=device\n",
    "            ).to(device)\n",
    "        else:\n",
    "            self._seq2vec_layer = GruSequenceToVector(\n",
    "                embedding_dim, num_layers, device=device\n",
    "            ).to(device)\n",
    "\n",
    "        # Trainable Variables\n",
    "        torch.manual_seed(42)\n",
    "        self._embedding_layer = nn.Embedding(vocab_size, embedding_dim).to(device)\n",
    "        self._classification_layer = nn.Linear(embedding_dim, num_classes).to(device)\n",
    "\n",
    "    def forward(self, inputs, training=False):\n",
    "        \"\"\"\n",
    "        Forward pass of Main Classifier.\n",
    "\n",
    "        @param inputs: batch of input tensors\n",
    "        @param training: whether the model is in training mode\n",
    "        \"\"\"\n",
    "        inputs = inputs.to(self.device)\n",
    "        embedded_tokens = self._embedding_layer(inputs)\n",
    "        tokens_mask = torch.where(inputs != 0, 1, 0).float()\n",
    "        outputs = self._seq2vec_layer(embedded_tokens, tokens_mask, training)\n",
    "        classification_vector = outputs[\"combined_vector\"]\n",
    "        layer_representations = outputs[\"layer_representations\"]\n",
    "        logits = self._classification_layer(classification_vector)\n",
    "        return {\"logits\": logits, \"layer_representations\": layer_representations}\n",
    "\n",
    "\n",
    "def load_pretrained_model(\n",
    "    serialization_dir: str,\n",
    "    device: str | torch.device = \"cuda\" if torch.cuda.is_available() else \"cpu\",\n",
    ") -> nn.Module:\n",
    "    \"\"\"\n",
    "    Given serialization directory, returns: model loaded with the pretrained weights.\n",
    "\n",
    "    @param serialization_dir: path to the serialization directory\n",
    "    @param device: device to store the model and tensors\n",
    "    \"\"\"\n",
    "\n",
    "    # Load Config\n",
    "    config_path = os.path.join(serialization_dir, \"config.json\")\n",
    "    model_path = os.path.join(serialization_dir, \"model.pkg\")\n",
    "\n",
    "    model_files_present = all(\n",
    "        [os.path.exists(path) for path in [config_path, model_path]]\n",
    "    )\n",
    "    if not model_files_present:\n",
    "        raise Exception(\n",
    "            f\"Model files in serialization_dir ({serialization_dir}) \"\n",
    "            f\" are missing. Cannot load_the_model.\"\n",
    "        )\n",
    "\n",
    "    with open(config_path, \"r\") as file:\n",
    "        config = json.load(file)\n",
    "    config[\"device\"] = device\n",
    "    # Load Model\n",
    "    model_name = config.pop(\"type\")\n",
    "    if model_name == \"main\":\n",
    "        model = MainClassifier(**config)\n",
    "        state = torch.load(model_path, map_location=device)\n",
    "        model.load_state_dict(state[\"model\"])\n",
    "    else:\n",
    "        model = ProbingClassifier(**config)\n",
    "        state = torch.load(model_path, map_location=device)\n",
    "        model.load_state_dict(state[\"model\"])\n",
    "\n",
    "    return model\n",
    "\n",
    "\n",
    "def train(\n",
    "    model: nn.Module,\n",
    "    optimizer: torch.optim.Optimizer,\n",
    "    train_instances: List[Dict[str, np.ndarray]],\n",
    "    validation_instances: List[Dict[str, np.ndarray]],\n",
    "    num_epochs: int,\n",
    "    batch_size: int,\n",
    "    serialization_dir: str | None = None,\n",
    "    device: str = \"cuda\" if torch.cuda.is_available() else \"cpu\",\n",
    "):\n",
    "    \"\"\"\n",
    "    Trains a model on the give training instances as configured and stores\n",
    "    the relevant files in serialization_dir. Returns model and some important metrics.\n",
    "\n",
    "    @param model: model to be trained\n",
    "    @param optimizer: optimizer to use for training\n",
    "    @param train_instances: list of dicts where each dict defines an instance\n",
    "    @param validation_instances: list of dicts where each dict defines an instance\n",
    "    @param num_epochs: number of epochs to train the model\n",
    "    @param batch_size: size of the batch\n",
    "    @param serialization_dir: path to the serialization directory\n",
    "    \"\"\"\n",
    "    print(\"\\nGenerating Training batches:\")\n",
    "    train_batches = generate_batches(train_instances, int(batch_size))\n",
    "    print(\"Generating Validation batches:\")\n",
    "    validation_batches = generate_batches(validation_instances, int(batch_size))\n",
    "    train_batch_labels = [batch_inputs.pop(\"labels\") for batch_inputs in train_batches]\n",
    "    validation_batch_labels = [\n",
    "        batch_inputs.pop(\"labels\") for batch_inputs in validation_batches\n",
    "    ]\n",
    "\n",
    "    best_epoch_validation_accuracy = float(\"-inf\")\n",
    "    best_epoch_validation_loss = float(\"inf\")\n",
    "\n",
    "    tensorboard_logs_path = os.path.join(serialization_dir, f\"tensorboard_logs\")\n",
    "    writer = SummaryWriter(log_dir=tensorboard_logs_path)\n",
    "    # Move model to device to ensure that model is on the same device as the tensors\n",
    "    model.to(device)\n",
    "    for epoch in range(num_epochs):\n",
    "        print(f\"\\nEpoch {epoch+1}\")\n",
    "        model.train()\n",
    "\n",
    "        total_training_loss = 0\n",
    "        total_correct_predictions, total_predictions = 0, 0\n",
    "        generator_tqdm = tqdm(list(zip(train_batches, train_batch_labels)))\n",
    "        for index, (batch_inputs, batch_labels) in enumerate(generator_tqdm):\n",
    "            optimizer.zero_grad()\n",
    "\n",
    "            # Use only the valid instances in the batch for loss calculation\n",
    "            batch_size = len(batch_labels)\n",
    "            batch_input_tensors = (\n",
    "                torch.Tensor(batch_inputs[\"inputs\"][:batch_size]).long().to(device)\n",
    "            )\n",
    "            logits = model(batch_input_tensors, training=True)[\"logits\"]\n",
    "            batch_labels_tensor = torch.tensor(batch_labels).to(torch.int64).to(device)\n",
    "\n",
    "            loss_value = cross_entropy_loss(logits, batch_labels_tensor)\n",
    "            loss_value.backward()\n",
    "            optimizer.step()\n",
    "            total_training_loss += loss_value\n",
    "            batch_predictions = np.argmax(\n",
    "                nn.Softmax(dim=1)(logits).cpu().detach().numpy(), axis=-1\n",
    "            )\n",
    "\n",
    "            # Use only the valid instances in the batch for accuracy calculation\n",
    "            valid_indices = [\n",
    "                i\n",
    "                for i, instance in enumerate(train_batches[index])\n",
    "                if not (\"padding\" in instance and instance[\"padding\"])\n",
    "            ]\n",
    "            valid_predictions = batch_predictions[valid_indices]\n",
    "            valid_labels = batch_labels[valid_indices]\n",
    "            total_correct_predictions += np.sum(\n",
    "                (valid_predictions == valid_labels).astype(int)\n",
    "            )\n",
    "            total_predictions += len(valid_indices)\n",
    "\n",
    "            description = \"Average training loss: %.2f Accuracy: %.2f \" % (\n",
    "                total_training_loss / (index + 1),\n",
    "                total_correct_predictions / total_predictions,\n",
    "            )\n",
    "            generator_tqdm.set_description(description, refresh=False)\n",
    "        average_training_loss = total_training_loss / len(train_batches)\n",
    "        training_accuracy = total_correct_predictions / total_predictions\n",
    "\n",
    "        model.eval()\n",
    "        total_validation_loss = 0\n",
    "        total_correct_predictions, total_predictions = 0, 0\n",
    "        generator_tqdm = tqdm(list(zip(validation_batches, validation_batch_labels)))\n",
    "        for index, (batch_inputs, batch_labels) in enumerate(generator_tqdm):\n",
    "            with torch.no_grad():\n",
    "                # Use only the valid instances in the batch for loss calculation\n",
    "                batch_size = len(batch_labels)\n",
    "                batch_input_tensors = (\n",
    "                    torch.Tensor(batch_inputs[\"inputs\"][:batch_size]).long().to(device)\n",
    "                )\n",
    "                logits = model(batch_input_tensors, training=False)[\"logits\"]\n",
    "                batch_labels_tensor = (\n",
    "                    torch.tensor(batch_labels).to(torch.int64).to(device)\n",
    "                )\n",
    "\n",
    "                loss_value = cross_entropy_loss(logits, batch_labels_tensor)\n",
    "                total_validation_loss += loss_value\n",
    "            batch_predictions = np.argmax(\n",
    "                nn.Softmax(dim=1)(logits).cpu().detach().numpy(), axis=-1\n",
    "            )\n",
    "\n",
    "            # Use only the valid instances in the batch for accuracy calculation\n",
    "            valid_indices = [\n",
    "                i\n",
    "                for i, instance in enumerate(validation_batches[index])\n",
    "                if not (\"padding\" in instance and instance[\"padding\"])\n",
    "            ]\n",
    "            valid_predictions = batch_predictions[valid_indices]\n",
    "            valid_labels = batch_labels[valid_indices]\n",
    "            total_correct_predictions += np.sum(\n",
    "                (valid_predictions == valid_labels).astype(int)\n",
    "            )\n",
    "            total_predictions += len(valid_indices)\n",
    "\n",
    "            description = \"Average validation loss: %.2f Accuracy: %.2f \" % (\n",
    "                total_validation_loss / (index + 1),\n",
    "                total_correct_predictions / total_predictions,\n",
    "            )\n",
    "            generator_tqdm.set_description(description, refresh=False)\n",
    "        average_validation_loss = total_validation_loss / len(validation_batches)\n",
    "        validation_accuracy = total_correct_predictions / total_predictions\n",
    "\n",
    "        if validation_accuracy > best_epoch_validation_accuracy:\n",
    "            print(\n",
    "                \"Model with best validation accuracy so far: %.2f. Saving the model.\"\n",
    "                % (validation_accuracy)\n",
    "            )\n",
    "            state = {\n",
    "                \"epoch\": epoch + 1,\n",
    "                \"model\": model.module.state_dict()\n",
    "                if hasattr(model, \"module\")\n",
    "                else model.state_dict(),\n",
    "            }\n",
    "            torch.save(state, os.path.join(serialization_dir, f\"model.pkg\"))\n",
    "            best_epoch_validation_loss = average_validation_loss\n",
    "            best_epoch_validation_accuracy = validation_accuracy\n",
    "\n",
    "        writer.add_scalar(\"loss/training\", average_training_loss, epoch)\n",
    "        writer.add_scalar(\"loss/validation\", average_validation_loss, epoch)\n",
    "        writer.add_scalar(\"accuracy/training\", training_accuracy, epoch)\n",
    "        writer.add_scalar(\"accuracy/validation\", validation_accuracy, epoch)\n",
    "        writer.flush()\n",
    "\n",
    "    writer.close()\n",
    "\n",
    "    metrics = {\n",
    "        \"training_loss\": float(average_training_loss),\n",
    "        \"validation_loss\": float(average_validation_loss),\n",
    "        \"training_accuracy\": float(training_accuracy),\n",
    "        \"best_epoch_validation_accuracy\": float(best_epoch_validation_accuracy),\n",
    "        \"best_epoch_validation_loss\": float(best_epoch_validation_loss),\n",
    "    }\n",
    "\n",
    "    print(\n",
    "        \"Best epoch validation accuracy: %.4f, validation loss: %.4f\"\n",
    "        % (best_epoch_validation_accuracy, best_epoch_validation_loss)\n",
    "    )\n",
    "\n",
    "    return {\"model\": model, \"metrics\": metrics}\n",
    "\n",
    "\n",
    "def predict(\n",
    "    model: nn.Module,\n",
    "    instances: List[Dict],\n",
    "    batch_size: int,\n",
    "    save_to_file: str | None = None,\n",
    "    device: str | torch.device = \"cuda\" if torch.cuda.is_available() else \"cpu\",\n",
    ") -> List[int]:\n",
    "    \"\"\"\n",
    "    Makes predictions using model on instances and saves them in save_to_file.\n",
    "\n",
    "    @param model: model to be trained\n",
    "    @param instances: list of dicts where each dict defines an instance\n",
    "    @param batch_size: size of the batch\n",
    "    @param save_to_file: path to the file where predictions will be saved\n",
    "    @param device: device to store the model and tensors\n",
    "    \"\"\"\n",
    "    batches = generate_batches(instances, int(batch_size))\n",
    "    predicted_labels = []\n",
    "\n",
    "    all_predicted_labels = []\n",
    "    model = model.to(device)\n",
    "    print(\"Making predictions\")\n",
    "    for batch_inputs in tqdm(batches):\n",
    "        batch_inputs.pop(\"labels\")\n",
    "        batch_input_tensors = torch.Tensor(batch_inputs[\"inputs\"]).long().to(device)\n",
    "        logits = model(batch_input_tensors, training=False)[\"logits\"]\n",
    "        predicted_labels = list(\n",
    "            np.argmax(nn.Softmax(dim=1)(logits).cpu().detach().numpy(), axis=-1)\n",
    "        )\n",
    "\n",
    "        # Use only the valid instances in the batch\n",
    "        filtered_batch_predictions = []\n",
    "        for prediction, instance in zip(predicted_labels, instances):\n",
    "            if \"padding\" not in instance:\n",
    "                filtered_batch_predictions.append(prediction)\n",
    "        all_predicted_labels.extend(predicted_labels)\n",
    "\n",
    "    if save_to_file:\n",
    "        print(f\"Saving predictions to filepath: {save_to_file}\")\n",
    "        with open(save_to_file, \"w\") as file:\n",
    "            for predicted_label in all_predicted_labels:\n",
    "                file.write(str(predicted_label) + \"\\n\")\n",
    "    else:\n",
    "        for predicted_label in all_predicted_labels:\n",
    "            print(str(predicted_label) + \"\\n\")\n",
    "    return all_predicted_labels\n",
    "\n",
    "\n",
    "def evaluate(gold_data_path: str, prediction_data_path: str) -> float:\n",
    "    \"\"\"\n",
    "    Evaluates accuracy of label predictions in ``prediction_data_path``\n",
    "    based on gold labels in ``gold_data_path``.\n",
    "\n",
    "    @param gold_data_path: path to the file containing gold labels\n",
    "    @param prediction_data_path: path to the file containing predicted labels\n",
    "    \"\"\"\n",
    "    with open(gold_data_path) as file:\n",
    "        gold_labels = [\n",
    "            int(json.loads(line.strip())[\"label\"])\n",
    "            for line in file.readlines()\n",
    "            if line.strip()\n",
    "        ]\n",
    "\n",
    "    with open(prediction_data_path) as file:\n",
    "        predicted_labels = [\n",
    "            int(line.strip()) for line in file.readlines() if line.strip()\n",
    "        ]\n",
    "\n",
    "    if len(gold_labels) != len(predicted_labels):\n",
    "        # Without truncating, the accuracy will be 0.0 or there will be an exception\n",
    "        if len(gold_labels) < len(predicted_labels):\n",
    "            predicted_labels = predicted_labels[: len(gold_labels)]\n",
    "        elif len(gold_labels) > len(predicted_labels):\n",
    "            gold_labels = gold_labels[: len(predicted_labels)]\n",
    "        else:\n",
    "            raise Exception(\n",
    "                \"Number of lines in labels and predictions files don't match.\"\n",
    "            )\n",
    "\n",
    "    correct_count = sum(\n",
    "        [\n",
    "            1.0 if predicted_label == gold_label else 0.0\n",
    "            for predicted_label, gold_label in zip(predicted_labels, gold_labels)\n",
    "        ]\n",
    "    )\n",
    "    total_count = len(predicted_labels)\n",
    "    return correct_count / total_count\n",
    "\n",
    "\n",
    "def train_wrapper(args):\n",
    "    device = torch.device(\"cuda:0\" if torch.cuda.is_available() else \"cpu\")\n",
    "    print(f\"Device: {device}\")\n",
    "\n",
    "    # Set numpy, torch and python seeds for reproducibility.\n",
    "    torch.manual_seed(1337)\n",
    "    np.random.seed(1337)\n",
    "    random.seed(13370)\n",
    "\n",
    "    # Set some constants\n",
    "    MAX_NUM_TOKENS = 250\n",
    "    VOCAB_SIZE = 10000\n",
    "    GLOVE_COMMON_WORDS_PATH = os.path.join(\"data\", \"glove_common_words.txt\")\n",
    "\n",
    "    print(\"Reading training instances.\")\n",
    "    train_instances = read_instances(args.train_data_file_path, MAX_NUM_TOKENS)\n",
    "    print(\"Reading validation instances.\")\n",
    "    validation_instances = read_instances(\n",
    "        args.validation_data_file_path, MAX_NUM_TOKENS\n",
    "    )\n",
    "\n",
    "    # Build Vocabulary\n",
    "    with open(GLOVE_COMMON_WORDS_PATH, encoding=\"utf-8\") as file:\n",
    "        glove_common_words = [line.strip() for line in file.readlines() if line.strip()]\n",
    "    vocab_token_to_id, vocab_id_to_token = build_vocabulary(\n",
    "        train_instances, VOCAB_SIZE, glove_common_words\n",
    "    )\n",
    "\n",
    "    # Build Config and Model\n",
    "    if args.model_name == \"main\":\n",
    "        config = {\n",
    "            \"seq2vec_choice\": args.seq2vec_choice,\n",
    "            \"vocab_size\": min(VOCAB_SIZE, len(vocab_token_to_id)),\n",
    "            \"embedding_dim\": args.embedding_dim,\n",
    "            \"num_layers\": args.num_layers,\n",
    "            \"device\": device,\n",
    "        }\n",
    "        classifier = MainClassifier(**config)\n",
    "        config[\"type\"] = \"main\"\n",
    "    else:\n",
    "        config_path = os.path.join(args.base_model_dir, \"config.json\")\n",
    "        with open(config_path, \"r\") as file:\n",
    "            config = json.load(file)\n",
    "            input_dim = config[\"embedding_dim\"]\n",
    "        config = {\n",
    "            \"pretrained_model_path\": args.base_model_dir,\n",
    "            \"input_dim\": input_dim,\n",
    "            \"layer_num\": args.layer_num,\n",
    "            \"classes_num\": 2,\n",
    "            \"device\": device,\n",
    "        }\n",
    "        classifier = ProbingClassifier(**config)\n",
    "        config[\"type\"] = \"probing\"\n",
    "\n",
    "    train_instances = index_instances(train_instances, vocab_token_to_id)\n",
    "    validation_instances = index_instances(validation_instances, vocab_token_to_id)\n",
    "\n",
    "    if args.model_name == \"main\" and args.pretrained_embedding_file:\n",
    "        embeddings = load_glove_embeddings(\n",
    "            args.pretrained_embedding_file, args.embedding_dim, vocab_id_to_token\n",
    "        )\n",
    "        classifier._embedding_layer = nn.Embedding.from_pretrained(\n",
    "            torch.Tensor(embeddings).to(device), freeze=False\n",
    "        )\n",
    "\n",
    "    optimizer = torch.optim.Adam(classifier.parameters())\n",
    "\n",
    "    save_serialization_dir = os.path.join(\n",
    "        \"serialization_dirs\", args.model_name + args.suffix_name\n",
    "    )\n",
    "    if not os.path.exists(save_serialization_dir):\n",
    "        os.makedirs(save_serialization_dir)\n",
    "\n",
    "    # Save the used vocabulary\n",
    "    vocab_path = os.path.join(save_serialization_dir, \"vocab.txt\")\n",
    "    save_vocabulary(vocab_id_to_token, vocab_path)\n",
    "\n",
    "    # Save the used config\n",
    "    config_path = os.path.join(save_serialization_dir, \"config.json\")\n",
    "    with open(config_path, \"w\") as file:\n",
    "        del config[\"device\"]\n",
    "        json.dump(config, file)\n",
    "\n",
    "    training_output = train(\n",
    "        classifier,\n",
    "        optimizer,\n",
    "        train_instances,\n",
    "        validation_instances,\n",
    "        args.num_epochs,\n",
    "        args.batch_size,\n",
    "        save_serialization_dir,\n",
    "    )\n",
    "    classifier = training_output[\"model\"]\n",
    "    metrics = training_output[\"metrics\"]\n",
    "\n",
    "    # Save the training metrics\n",
    "    metrics_path = os.path.join(save_serialization_dir, \"metrics.json\")\n",
    "    with open(metrics_path, \"w\") as file:\n",
    "        json.dump(metrics, file)\n",
    "\n",
    "    print(f\"\\nFinal model stored in serialization directory: {save_serialization_dir}\")\n",
    "\n",
    "\n",
    "def test_wrapper(args):\n",
    "    device = torch.device(\"cuda:0\" if torch.cuda.is_available() else \"cpu\")\n",
    "\n",
    "    # Set some constants\n",
    "    MAX_NUM_TOKENS = 250\n",
    "\n",
    "    instances = read_instances(args.data_file_path, MAX_NUM_TOKENS)\n",
    "\n",
    "    vocabulary_path = os.path.join(args.load_serialization_dir, \"vocab.txt\")\n",
    "    vocab_token_to_id, _ = load_vocabulary(vocabulary_path)\n",
    "\n",
    "    instances = index_instances(instances, vocab_token_to_id)\n",
    "\n",
    "    # Load Config\n",
    "    config_path = os.path.join(args.load_serialization_dir, \"config.json\")\n",
    "    with open(config_path, \"r\") as file:\n",
    "        config = json.load(file)\n",
    "\n",
    "    # Load Model\n",
    "    classifier = load_pretrained_model(args.load_serialization_dir, device=device)\n",
    "\n",
    "    predict(\n",
    "        classifier, instances, args.batch_size, args.predictions_file, device=device\n",
    "    )\n",
    "\n",
    "\n",
    "def evaluate_wrapper(args):\n",
    "    accuracy = evaluate(args.gold_data_path, args.prediction_data_path)\n",
    "    print(f\"Accuracy: {round(accuracy, 2)}\")\n",
    "\n",
    "\n",
    "class DictX(dict):\n",
    "    def __getattr__(self, key):\n",
    "        try:\n",
    "            return self[key]\n",
    "        except KeyError as k:\n",
    "            raise AttributeError(k)\n",
    "\n",
    "    def __setattr__(self, key, value):\n",
    "        self[key] = value\n",
    "\n",
    "    def __delattr__(self, key):\n",
    "        try:\n",
    "            del self[key]\n",
    "        except KeyError as k:\n",
    "            raise AttributeError(k)\n",
    "\n",
    "    def __repr__(self):\n",
    "        return \"<DictX \" + dict.__repr__(self) + \">\"\n",
    "\n",
    "\n",
    "train_args = DictX({})\n",
    "predict_args = DictX({})\n",
    "evaluate_args = DictX({})"
   ]
  },
  {
   "cell_type": "markdown",
   "metadata": {},
   "source": [
    "## Analyses: DAN vs GRU\n"
   ]
  },
  {
   "cell_type": "markdown",
   "metadata": {},
   "source": [
    "In this section, we analyze various properties of the DAN and GRU models using the training and testing framework we have built.\n"
   ]
  },
  {
   "cell_type": "markdown",
   "metadata": {},
   "source": [
    "### Performance vs\n"
   ]
  },
  {
   "cell_type": "markdown",
   "metadata": {},
   "source": [
    "#### Data Size\n"
   ]
  },
  {
   "cell_type": "markdown",
   "metadata": {},
   "source": [
    "In this part, we analyze the performance of the models with respect to the size of training data.\n"
   ]
  },
  {
   "cell_type": "code",
   "execution_count": null,
   "metadata": {},
   "outputs": [
    {
     "name": "stdout",
     "output_type": "stream",
     "text": [
      "{'5k': 'data/imdb_sentiment_train_5k.jsonl', '10k': 'data/imdb_sentiment_train_10k.jsonl', '15k': 'data/imdb_sentiment_train_15k.jsonl'} {'dan': [0.9574468085106383, 0.9361702127659575, 0.9468085106382979], 'gru': [0.9148936170212766, 0.9361702127659575, 0.9680851063829787]}\n"
     ]
    },
    {
     "data": {
      "image/png": "[encoded data removed]",
      "text/plain": [
       "<Figure size 640x480 with 1 Axes>"
      ]
     },
     "metadata": {},
     "output_type": "display_data"
    },
    {
     "data": {
      "text/plain": [
       "<Figure size 640x480 with 0 Axes>"
      ]
     },
     "metadata": {},
     "output_type": "display_data"
    }
   ],
   "source": [
    "def analyze_perf_vs_data_size():\n",
    "    seq2vec_choices = [\"dan\", \"gru\"]\n",
    "    datasets = {\n",
    "        \"5k\": imdb_sentiment_train_5k_path,\n",
    "        \"10k\": imdb_sentiment_train_10k_path,\n",
    "        \"15k\": imdb_sentiment_train_15k_path,\n",
    "    }\n",
    "    validation_accuracies = {\"dan\": [], \"gru\": []}\n",
    "    validation_accuracies[\"dan\"] = [0] * len(datasets)\n",
    "    validation_accuracies[\"gru\"] = [0] * len(datasets)\n",
    "    train_args[\"model_name\"] = \"main\"\n",
    "    train_args[\"num_epochs\"] = 8\n",
    "    train_args[\"embedding_dim\"] = 50\n",
    "    train_args[\"num_layers\"] = 4\n",
    "    train_args[\"batch_size\"] = 32\n",
    "    train_args[\"pretrained_embedding_file\"] = pretrained_embedding_path\n",
    "    for seq2vec_choice in seq2vec_choices:\n",
    "        for ds in datasets:\n",
    "            serialization_dir = os.path.join(\n",
    "                \"serialization_dirs\", f\"main_{seq2vec_choice}_{ds}_with_emb\"\n",
    "            )\n",
    "            metrics_path = os.path.join(serialization_dir, \"metrics.json\")\n",
    "            if not os.path.exists(metrics_path):\n",
    "                train_args[\"train_data_file_path\"] = datasets[ds]\n",
    "                train_args[\"validation_data_file_path\"] = imdb_sentiment_dev_path\n",
    "                train_args[\"suffix_name\"] = f\"_{seq2vec_choice}_{ds}_with_emb\"\n",
    "                train_args[\"seq2vec_choice\"] = seq2vec_choice\n",
    "                train_args[\"base_model_dir\"] = serialization_dir\n",
    "                print(f\"Training the model with arguments:\\n{train_args}\")\n",
    "                train_wrapper(train_args)\n",
    "                predict_args[\"load_serialization_dir\"] = serialization_dir\n",
    "                predict_args[\"data_file_path\"] = imdb_sentiment_test_path\n",
    "                predict_args[\n",
    "                    \"predictions_file\"\n",
    "                ] = f\"main_{seq2vec_choice}_{ds}_predictions.txt\"\n",
    "                print(f\"Generating test predictions with arguments:\\n{predict_args}\")\n",
    "                test_wrapper(predict_args)\n",
    "                print(\n",
    "                    f\"Evaluating model using the following arguments:\\n{predict_args}\"\n",
    "                )\n",
    "                evaluate_args[\"gold_data_path\"] = imdb_sentiment_test_path\n",
    "                evaluate_args[\n",
    "                    \"prediction_data_path\"\n",
    "                ] = f\"main_{seq2vec_choice}_{ds}_predictions.txt\"\n",
    "                evaluate_wrapper(evaluate_args)\n",
    "            else:\n",
    "                with open(metrics_path) as file:\n",
    "                    metrics = json.load(file)\n",
    "                    validation_accuracy = metrics.get(\n",
    "                        \"best_epoch_validation_accuracy\", 0\n",
    "                    )  # Default value 0\n",
    "                    index = list(datasets.keys()).index(ds)\n",
    "                    validation_accuracies[seq2vec_choice][index] = validation_accuracy\n",
    "                validation_accuracies[seq2vec_choice][\n",
    "                    list(datasets.keys()).index(ds)\n",
    "                ] = metrics[\"best_epoch_validation_accuracy\"]\n",
    "\n",
    "    print(datasets, validation_accuracies)\n",
    "    for seq2vec_choice in seq2vec_choices:\n",
    "        plt.plot(\n",
    "            list(datasets.keys()),\n",
    "            validation_accuracies[seq2vec_choice],\n",
    "            label=seq2vec_choice,\n",
    "        )\n",
    "    plt.xlabel(\"Training Data Used\")\n",
    "    plt.ylabel(\"Validation Accuracy\")\n",
    "    plt.title(\"Best validation accuracies vs Training data used\")\n",
    "    plt.legend()\n",
    "    plt.savefig(os.path.join(\"plots\", \"performance_against_data_size_with_glove.png\"))\n",
    "    plt.show()\n",
    "    plt.clf()\n",
    "\n",
    "!rm -rf plots\n",
    "!mkdir plots\n",
    "analyze_perf_vs_data_size()"
   ]
  },
  {
   "attachments": {},
   "cell_type": "markdown",
   "metadata": {},
   "source": [
    "We expect the performance of the models to increase with the size of the dataset. This is because the models will have more data to learn from and will be able to generalize better. The rate of increase may not be linear due to possible issues like diminishing returns or overfitting, depending on the architecture. Increasing the size of the dataset will also increase the training time and consume more resources.\n",
    "\n",
    "We can see that the performance of both models either hovers around the same accuracy or increases with the size of the dataset. While the DAN model performs slightly better than GRU at 5k, it performs slightly lower at 15k; the GRU model shows a more substantial increase in performance as the size of the dataset increases. This is mostly in line with our expectations, as the GRU model is more complex and has more parameters to learn, so it will take more data to train it well. The DAN model is simpler and has fewer parameters, so it can be trained with less data.\n"
   ]
  },
  {
   "cell_type": "markdown",
   "metadata": {},
   "source": [
    "#### Training Time\n"
   ]
  },
  {
   "cell_type": "markdown",
   "metadata": {},
   "source": [
    "In this section we train DAN and GRU for 50 epochs and observe the results. As the number of epochs increases, the models will be exposed to the training data for longer, and will have more opportunities to adjust their weights to fit the data. This will increase the training time, but will also increase the performance of the models. This behavior depends on several factors, including overfitting, convergence, and model complexity. Due to aforementioned reasons, we expect DAN will converge faster and will not overfit as easily, but GRU will take longer to train and will be more likely to overfit.\n"
   ]
  },
  {
   "cell_type": "markdown",
   "metadata": {},
   "source": [
    "##### DAN\n"
   ]
  },
  {
   "cell_type": "code",
   "execution_count": null,
   "metadata": {},
   "outputs": [
    {
     "name": "stdout",
     "output_type": "stream",
     "text": [
      "Training the model with arguments:\n",
      "<DictX {'model_name': 'main', 'train_data_file_path': 'data/imdb_sentiment_train_15k.jsonl', 'validation_data_file_path': 'data/imdb_sentiment_dev.jsonl', 'suffix_name': '_dan_15k_with_emb_50_epoch', 'batch_size': 32, 'num_epochs': 50, 'seq2vec_choice': 'dan', 'embedding_dim': 50, 'num_layers': 4, 'pretrained_embedding_file': 'data/glove.6B.50d.txt', 'base-model-dir': '', 'layer_num': ''}>\n",
      "Device: cuda:0\n",
      "Reading training instances.\n"
     ]
    },
    {
     "name": "stderr",
     "output_type": "stream",
     "text": [
      "100%|██████████| 15000/15000 [00:05<00:00, 2865.14it/s]\n"
     ]
    },
    {
     "name": "stdout",
     "output_type": "stream",
     "text": [
      "Reading validation instances.\n"
     ]
    },
    {
     "name": "stderr",
     "output_type": "stream",
     "text": [
      "100%|██████████| 3000/3000 [00:00<00:00, 3749.13it/s]\n"
     ]
    },
    {
     "name": "stdout",
     "output_type": "stream",
     "text": [
      "\n",
      "Building Vocabulary.\n",
      "\n",
      "Reading pretrained embedding file.\n"
     ]
    },
    {
     "name": "stderr",
     "output_type": "stream",
     "text": [
      "400000it [00:00, 521598.51it/s]\n"
     ]
    },
    {
     "name": "stdout",
     "output_type": "stream",
     "text": [
      "\n",
      "Generating Training batches:\n"
     ]
    },
    {
     "name": "stderr",
     "output_type": "stream",
     "text": [
      "100%|██████████| 469/469 [00:00<00:00, 3122.54it/s]\n"
     ]
    },
    {
     "name": "stdout",
     "output_type": "stream",
     "text": [
      "Generating Validation batches:\n"
     ]
    },
    {
     "name": "stderr",
     "output_type": "stream",
     "text": [
      "100%|██████████| 94/94 [00:00<00:00, 2704.85it/s]\n"
     ]
    },
    {
     "name": "stdout",
     "output_type": "stream",
     "text": [
      "\n",
      "Epoch 1\n"
     ]
    },
    {
     "name": "stderr",
     "output_type": "stream",
     "text": [
      "Average training loss: 0.53 Accuracy: 0.72 : 100%|██████████| 469/469 [00:01<00:00, 332.03it/s]\n",
      "Average validation loss: 0.34 Accuracy: 0.86 : 100%|██████████| 94/94 [00:00<00:00, 1014.83it/s]\n"
     ]
    },
    {
     "name": "stdout",
     "output_type": "stream",
     "text": [
      "Model with best validation accuracy so far: 0.86. Saving the model.\n",
      "\n",
      "Epoch 2\n"
     ]
    },
    {
     "name": "stderr",
     "output_type": "stream",
     "text": [
      "Average training loss: 0.31 Accuracy: 0.88 : 100%|██████████| 469/469 [00:01<00:00, 261.14it/s]\n",
      "Average validation loss: 0.27 Accuracy: 0.89 : 100%|██████████| 94/94 [00:00<00:00, 708.00it/s]\n"
     ]
    },
    {
     "name": "stdout",
     "output_type": "stream",
     "text": [
      "Model with best validation accuracy so far: 0.89. Saving the model.\n",
      "\n",
      "Epoch 3\n"
     ]
    },
    {
     "name": "stderr",
     "output_type": "stream",
     "text": [
      "Average training loss: 0.24 Accuracy: 0.90 : 100%|██████████| 469/469 [00:01<00:00, 328.05it/s]\n",
      "Average validation loss: 0.26 Accuracy: 0.89 : 100%|██████████| 94/94 [00:00<00:00, 917.70it/s]\n"
     ]
    },
    {
     "name": "stdout",
     "output_type": "stream",
     "text": [
      "\n",
      "Epoch 4\n"
     ]
    },
    {
     "name": "stderr",
     "output_type": "stream",
     "text": [
      "Average training loss: 0.19 Accuracy: 0.92 : 100%|██████████| 469/469 [00:01<00:00, 335.71it/s]\n",
      "Average validation loss: 0.25 Accuracy: 0.89 : 100%|██████████| 94/94 [00:00<00:00, 994.56it/s]\n"
     ]
    },
    {
     "name": "stdout",
     "output_type": "stream",
     "text": [
      "\n",
      "Epoch 5\n"
     ]
    },
    {
     "name": "stderr",
     "output_type": "stream",
     "text": [
      "Average training loss: 0.16 Accuracy: 0.94 : 100%|██████████| 469/469 [00:01<00:00, 333.41it/s]\n",
      "Average validation loss: 0.28 Accuracy: 0.91 : 100%|██████████| 94/94 [00:00<00:00, 965.19it/s]\n"
     ]
    },
    {
     "name": "stdout",
     "output_type": "stream",
     "text": [
      "Model with best validation accuracy so far: 0.91. Saving the model.\n",
      "\n",
      "Epoch 6\n"
     ]
    },
    {
     "name": "stderr",
     "output_type": "stream",
     "text": [
      "Average training loss: 0.15 Accuracy: 0.95 : 100%|██████████| 469/469 [00:01<00:00, 332.27it/s]\n",
      "Average validation loss: 0.21 Accuracy: 0.93 : 100%|██████████| 94/94 [00:00<00:00, 954.24it/s]\n"
     ]
    },
    {
     "name": "stdout",
     "output_type": "stream",
     "text": [
      "Model with best validation accuracy so far: 0.93. Saving the model.\n",
      "\n",
      "Epoch 7\n"
     ]
    },
    {
     "name": "stderr",
     "output_type": "stream",
     "text": [
      "Average training loss: 0.12 Accuracy: 0.96 : 100%|██████████| 469/469 [00:01<00:00, 334.46it/s]\n",
      "Average validation loss: 0.20 Accuracy: 0.94 : 100%|██████████| 94/94 [00:00<00:00, 1021.17it/s]\n"
     ]
    },
    {
     "name": "stdout",
     "output_type": "stream",
     "text": [
      "Model with best validation accuracy so far: 0.94. Saving the model.\n",
      "\n",
      "Epoch 8\n"
     ]
    },
    {
     "name": "stderr",
     "output_type": "stream",
     "text": [
      "Average training loss: 0.11 Accuracy: 0.96 : 100%|██████████| 469/469 [00:01<00:00, 332.26it/s]\n",
      "Average validation loss: 0.22 Accuracy: 0.96 : 100%|██████████| 94/94 [00:00<00:00, 950.04it/s]\n"
     ]
    },
    {
     "name": "stdout",
     "output_type": "stream",
     "text": [
      "Model with best validation accuracy so far: 0.96. Saving the model.\n",
      "\n",
      "Epoch 9\n"
     ]
    },
    {
     "name": "stderr",
     "output_type": "stream",
     "text": [
      "Average training loss: 0.10 Accuracy: 0.97 : 100%|██████████| 469/469 [00:01<00:00, 291.76it/s]\n",
      "Average validation loss: 0.20 Accuracy: 0.95 : 100%|██████████| 94/94 [00:00<00:00, 734.50it/s]\n"
     ]
    },
    {
     "name": "stdout",
     "output_type": "stream",
     "text": [
      "\n",
      "Epoch 10\n"
     ]
    },
    {
     "name": "stderr",
     "output_type": "stream",
     "text": [
      "Average training loss: 0.09 Accuracy: 0.98 : 100%|██████████| 469/469 [00:01<00:00, 270.46it/s]\n",
      "Average validation loss: 0.21 Accuracy: 0.94 : 100%|██████████| 94/94 [00:00<00:00, 727.92it/s]\n"
     ]
    },
    {
     "name": "stdout",
     "output_type": "stream",
     "text": [
      "\n",
      "Epoch 11\n"
     ]
    },
    {
     "name": "stderr",
     "output_type": "stream",
     "text": [
      "Average training loss: 0.08 Accuracy: 0.97 : 100%|██████████| 469/469 [00:01<00:00, 313.39it/s]\n",
      "Average validation loss: 0.21 Accuracy: 0.95 : 100%|██████████| 94/94 [00:00<00:00, 920.30it/s]\n"
     ]
    },
    {
     "name": "stdout",
     "output_type": "stream",
     "text": [
      "\n",
      "Epoch 12\n"
     ]
    },
    {
     "name": "stderr",
     "output_type": "stream",
     "text": [
      "Average training loss: 0.07 Accuracy: 0.98 : 100%|██████████| 469/469 [00:01<00:00, 330.37it/s]\n",
      "Average validation loss: 0.25 Accuracy: 0.93 : 100%|██████████| 94/94 [00:00<00:00, 1003.01it/s]\n"
     ]
    },
    {
     "name": "stdout",
     "output_type": "stream",
     "text": [
      "\n",
      "Epoch 13\n"
     ]
    },
    {
     "name": "stderr",
     "output_type": "stream",
     "text": [
      "Average training loss: 0.06 Accuracy: 0.97 : 100%|██████████| 469/469 [00:01<00:00, 328.76it/s]\n",
      "Average validation loss: 0.24 Accuracy: 0.94 : 100%|██████████| 94/94 [00:00<00:00, 954.99it/s]\n"
     ]
    },
    {
     "name": "stdout",
     "output_type": "stream",
     "text": [
      "\n",
      "Epoch 14\n"
     ]
    },
    {
     "name": "stderr",
     "output_type": "stream",
     "text": [
      "Average training loss: 0.06 Accuracy: 0.98 : 100%|██████████| 469/469 [00:01<00:00, 331.59it/s]\n",
      "Average validation loss: 0.23 Accuracy: 0.95 : 100%|██████████| 94/94 [00:00<00:00, 941.69it/s]\n"
     ]
    },
    {
     "name": "stdout",
     "output_type": "stream",
     "text": [
      "\n",
      "Epoch 15\n"
     ]
    },
    {
     "name": "stderr",
     "output_type": "stream",
     "text": [
      "Average training loss: 0.06 Accuracy: 0.97 : 100%|██████████| 469/469 [00:01<00:00, 324.58it/s]\n",
      "Average validation loss: 0.26 Accuracy: 0.94 : 100%|██████████| 94/94 [00:00<00:00, 865.87it/s]\n"
     ]
    },
    {
     "name": "stdout",
     "output_type": "stream",
     "text": [
      "\n",
      "Epoch 16\n"
     ]
    },
    {
     "name": "stderr",
     "output_type": "stream",
     "text": [
      "Average training loss: 0.05 Accuracy: 0.99 : 100%|██████████| 469/469 [00:01<00:00, 320.10it/s]\n",
      "Average validation loss: 0.31 Accuracy: 0.91 : 100%|██████████| 94/94 [00:00<00:00, 942.90it/s]\n"
     ]
    },
    {
     "name": "stdout",
     "output_type": "stream",
     "text": [
      "\n",
      "Epoch 17\n"
     ]
    },
    {
     "name": "stderr",
     "output_type": "stream",
     "text": [
      "Average training loss: 0.05 Accuracy: 0.98 : 100%|██████████| 469/469 [00:01<00:00, 307.62it/s]\n",
      "Average validation loss: 0.26 Accuracy: 0.93 : 100%|██████████| 94/94 [00:00<00:00, 770.88it/s]\n"
     ]
    },
    {
     "name": "stdout",
     "output_type": "stream",
     "text": [
      "\n",
      "Epoch 18\n"
     ]
    },
    {
     "name": "stderr",
     "output_type": "stream",
     "text": [
      "Average training loss: 0.05 Accuracy: 1.00 : 100%|██████████| 469/469 [00:01<00:00, 260.72it/s]\n",
      "Average validation loss: 0.31 Accuracy: 0.94 : 100%|██████████| 94/94 [00:00<00:00, 775.25it/s]\n"
     ]
    },
    {
     "name": "stdout",
     "output_type": "stream",
     "text": [
      "\n",
      "Epoch 19\n"
     ]
    },
    {
     "name": "stderr",
     "output_type": "stream",
     "text": [
      "Average training loss: 0.04 Accuracy: 0.99 : 100%|██████████| 469/469 [00:01<00:00, 296.01it/s]\n",
      "Average validation loss: 0.26 Accuracy: 0.94 : 100%|██████████| 94/94 [00:00<00:00, 980.01it/s]\n"
     ]
    },
    {
     "name": "stdout",
     "output_type": "stream",
     "text": [
      "\n",
      "Epoch 20\n"
     ]
    },
    {
     "name": "stderr",
     "output_type": "stream",
     "text": [
      "Average training loss: 0.04 Accuracy: 0.98 : 100%|██████████| 469/469 [00:01<00:00, 328.64it/s]\n",
      "Average validation loss: 0.25 Accuracy: 0.96 : 100%|██████████| 94/94 [00:00<00:00, 953.76it/s]\n"
     ]
    },
    {
     "name": "stdout",
     "output_type": "stream",
     "text": [
      "\n",
      "Epoch 21\n"
     ]
    },
    {
     "name": "stderr",
     "output_type": "stream",
     "text": [
      "Average training loss: 0.04 Accuracy: 0.99 : 100%|██████████| 469/469 [00:01<00:00, 320.32it/s]\n",
      "Average validation loss: 0.26 Accuracy: 0.95 : 100%|██████████| 94/94 [00:00<00:00, 1011.34it/s]\n"
     ]
    },
    {
     "name": "stdout",
     "output_type": "stream",
     "text": [
      "\n",
      "Epoch 22\n"
     ]
    },
    {
     "name": "stderr",
     "output_type": "stream",
     "text": [
      "Average training loss: 0.03 Accuracy: 0.99 : 100%|██████████| 469/469 [00:01<00:00, 321.85it/s]\n",
      "Average validation loss: 0.29 Accuracy: 0.94 : 100%|██████████| 94/94 [00:00<00:00, 982.82it/s]\n"
     ]
    },
    {
     "name": "stdout",
     "output_type": "stream",
     "text": [
      "\n",
      "Epoch 23\n"
     ]
    },
    {
     "name": "stderr",
     "output_type": "stream",
     "text": [
      "Average training loss: 0.04 Accuracy: 0.99 : 100%|██████████| 469/469 [00:01<00:00, 329.83it/s]\n",
      "Average validation loss: 0.29 Accuracy: 0.96 : 100%|██████████| 94/94 [00:00<00:00, 983.45it/s]\n"
     ]
    },
    {
     "name": "stdout",
     "output_type": "stream",
     "text": [
      "\n",
      "Epoch 24\n"
     ]
    },
    {
     "name": "stderr",
     "output_type": "stream",
     "text": [
      "Average training loss: 0.03 Accuracy: 0.99 : 100%|██████████| 469/469 [00:01<00:00, 332.02it/s]\n",
      "Average validation loss: 0.29 Accuracy: 0.97 : 100%|██████████| 94/94 [00:00<00:00, 965.73it/s]\n"
     ]
    },
    {
     "name": "stdout",
     "output_type": "stream",
     "text": [
      "Model with best validation accuracy so far: 0.97. Saving the model.\n",
      "\n",
      "Epoch 25\n"
     ]
    },
    {
     "name": "stderr",
     "output_type": "stream",
     "text": [
      "Average training loss: 0.03 Accuracy: 1.00 : 100%|██████████| 469/469 [00:01<00:00, 316.26it/s]\n",
      "Average validation loss: 0.29 Accuracy: 0.97 : 100%|██████████| 94/94 [00:00<00:00, 666.57it/s]\n"
     ]
    },
    {
     "name": "stdout",
     "output_type": "stream",
     "text": [
      "\n",
      "Epoch 26\n"
     ]
    },
    {
     "name": "stderr",
     "output_type": "stream",
     "text": [
      "Average training loss: 0.03 Accuracy: 0.99 : 100%|██████████| 469/469 [00:01<00:00, 264.88it/s]\n",
      "Average validation loss: 0.28 Accuracy: 0.97 : 100%|██████████| 94/94 [00:00<00:00, 780.84it/s]\n"
     ]
    },
    {
     "name": "stdout",
     "output_type": "stream",
     "text": [
      "\n",
      "Epoch 27\n"
     ]
    },
    {
     "name": "stderr",
     "output_type": "stream",
     "text": [
      "Average training loss: 0.02 Accuracy: 1.00 : 100%|██████████| 469/469 [00:01<00:00, 284.24it/s]\n",
      "Average validation loss: 0.31 Accuracy: 0.96 : 100%|██████████| 94/94 [00:00<00:00, 1004.33it/s]\n"
     ]
    },
    {
     "name": "stdout",
     "output_type": "stream",
     "text": [
      "\n",
      "Epoch 28\n"
     ]
    },
    {
     "name": "stderr",
     "output_type": "stream",
     "text": [
      "Average training loss: 0.03 Accuracy: 0.99 : 100%|██████████| 469/469 [00:01<00:00, 327.33it/s]\n",
      "Average validation loss: 0.30 Accuracy: 0.97 : 100%|██████████| 94/94 [00:00<00:00, 942.30it/s]\n"
     ]
    },
    {
     "name": "stdout",
     "output_type": "stream",
     "text": [
      "\n",
      "Epoch 29\n"
     ]
    },
    {
     "name": "stderr",
     "output_type": "stream",
     "text": [
      "Average training loss: 0.02 Accuracy: 0.99 : 100%|██████████| 469/469 [00:01<00:00, 329.94it/s]\n",
      "Average validation loss: 0.33 Accuracy: 0.95 : 100%|██████████| 94/94 [00:00<00:00, 969.95it/s]\n"
     ]
    },
    {
     "name": "stdout",
     "output_type": "stream",
     "text": [
      "\n",
      "Epoch 30\n"
     ]
    },
    {
     "name": "stderr",
     "output_type": "stream",
     "text": [
      "Average training loss: 0.02 Accuracy: 1.00 : 100%|██████████| 469/469 [00:01<00:00, 324.81it/s]\n",
      "Average validation loss: 0.34 Accuracy: 0.93 : 100%|██████████| 94/94 [00:00<00:00, 984.92it/s]\n"
     ]
    },
    {
     "name": "stdout",
     "output_type": "stream",
     "text": [
      "\n",
      "Epoch 31\n"
     ]
    },
    {
     "name": "stderr",
     "output_type": "stream",
     "text": [
      "Average training loss: 0.03 Accuracy: 0.99 : 100%|██████████| 469/469 [00:01<00:00, 321.30it/s]\n",
      "Average validation loss: 0.36 Accuracy: 0.93 : 100%|██████████| 94/94 [00:00<00:00, 978.98it/s]\n"
     ]
    },
    {
     "name": "stdout",
     "output_type": "stream",
     "text": [
      "\n",
      "Epoch 32\n"
     ]
    },
    {
     "name": "stderr",
     "output_type": "stream",
     "text": [
      "Average training loss: 0.02 Accuracy: 1.00 : 100%|██████████| 469/469 [00:01<00:00, 323.50it/s]\n",
      "Average validation loss: 0.31 Accuracy: 0.96 : 100%|██████████| 94/94 [00:00<00:00, 942.30it/s]\n"
     ]
    },
    {
     "name": "stdout",
     "output_type": "stream",
     "text": [
      "\n",
      "Epoch 33\n"
     ]
    },
    {
     "name": "stderr",
     "output_type": "stream",
     "text": [
      "Average training loss: 0.02 Accuracy: 1.00 : 100%|██████████| 469/469 [00:01<00:00, 320.67it/s]\n",
      "Average validation loss: 0.36 Accuracy: 0.95 : 100%|██████████| 94/94 [00:00<00:00, 696.70it/s]\n"
     ]
    },
    {
     "name": "stdout",
     "output_type": "stream",
     "text": [
      "\n",
      "Epoch 34\n"
     ]
    },
    {
     "name": "stderr",
     "output_type": "stream",
     "text": [
      "Average training loss: 0.01 Accuracy: 1.00 : 100%|██████████| 469/469 [00:01<00:00, 262.43it/s]\n",
      "Average validation loss: 0.36 Accuracy: 0.96 : 100%|██████████| 94/94 [00:00<00:00, 725.31it/s]\n"
     ]
    },
    {
     "name": "stdout",
     "output_type": "stream",
     "text": [
      "\n",
      "Epoch 35\n"
     ]
    },
    {
     "name": "stderr",
     "output_type": "stream",
     "text": [
      "Average training loss: 0.02 Accuracy: 1.00 : 100%|██████████| 469/469 [00:01<00:00, 277.43it/s]\n",
      "Average validation loss: 0.32 Accuracy: 0.96 : 100%|██████████| 94/94 [00:00<00:00, 1002.83it/s]\n"
     ]
    },
    {
     "name": "stdout",
     "output_type": "stream",
     "text": [
      "\n",
      "Epoch 36\n"
     ]
    },
    {
     "name": "stderr",
     "output_type": "stream",
     "text": [
      "Average training loss: 0.02 Accuracy: 1.00 : 100%|██████████| 469/469 [00:01<00:00, 326.34it/s]\n",
      "Average validation loss: 0.38 Accuracy: 0.95 : 100%|██████████| 94/94 [00:00<00:00, 939.51it/s]\n"
     ]
    },
    {
     "name": "stdout",
     "output_type": "stream",
     "text": [
      "\n",
      "Epoch 37\n"
     ]
    },
    {
     "name": "stderr",
     "output_type": "stream",
     "text": [
      "Average training loss: 0.02 Accuracy: 0.98 : 100%|██████████| 469/469 [00:01<00:00, 333.61it/s]\n",
      "Average validation loss: 0.43 Accuracy: 0.95 : 100%|██████████| 94/94 [00:00<00:00, 987.61it/s]\n"
     ]
    },
    {
     "name": "stdout",
     "output_type": "stream",
     "text": [
      "\n",
      "Epoch 38\n"
     ]
    },
    {
     "name": "stderr",
     "output_type": "stream",
     "text": [
      "Average training loss: 0.01 Accuracy: 1.00 : 100%|██████████| 469/469 [00:01<00:00, 328.27it/s]\n",
      "Average validation loss: 0.42 Accuracy: 0.95 : 100%|██████████| 94/94 [00:00<00:00, 818.83it/s]\n"
     ]
    },
    {
     "name": "stdout",
     "output_type": "stream",
     "text": [
      "\n",
      "Epoch 39\n"
     ]
    },
    {
     "name": "stderr",
     "output_type": "stream",
     "text": [
      "Average training loss: 0.01 Accuracy: 0.99 : 100%|██████████| 469/469 [00:01<00:00, 319.63it/s]\n",
      "Average validation loss: 0.40 Accuracy: 0.95 : 100%|██████████| 94/94 [00:00<00:00, 1013.29it/s]\n"
     ]
    },
    {
     "name": "stdout",
     "output_type": "stream",
     "text": [
      "\n",
      "Epoch 40\n"
     ]
    },
    {
     "name": "stderr",
     "output_type": "stream",
     "text": [
      "Average training loss: 0.01 Accuracy: 1.00 : 100%|██████████| 469/469 [00:01<00:00, 322.06it/s]\n",
      "Average validation loss: 0.46 Accuracy: 0.97 : 100%|██████████| 94/94 [00:00<00:00, 994.39it/s]\n"
     ]
    },
    {
     "name": "stdout",
     "output_type": "stream",
     "text": [
      "\n",
      "Epoch 41\n"
     ]
    },
    {
     "name": "stderr",
     "output_type": "stream",
     "text": [
      "Average training loss: 0.01 Accuracy: 1.00 : 100%|██████████| 469/469 [00:01<00:00, 331.31it/s]\n",
      "Average validation loss: 0.40 Accuracy: 0.96 : 100%|██████████| 94/94 [00:00<00:00, 992.17it/s]\n"
     ]
    },
    {
     "name": "stdout",
     "output_type": "stream",
     "text": [
      "\n",
      "Epoch 42\n"
     ]
    },
    {
     "name": "stderr",
     "output_type": "stream",
     "text": [
      "Average training loss: 0.01 Accuracy: 1.00 : 100%|██████████| 469/469 [00:01<00:00, 266.88it/s]\n",
      "Average validation loss: 0.35 Accuracy: 0.97 : 100%|██████████| 94/94 [00:00<00:00, 731.14it/s]\n"
     ]
    },
    {
     "name": "stdout",
     "output_type": "stream",
     "text": [
      "\n",
      "Epoch 43\n"
     ]
    },
    {
     "name": "stderr",
     "output_type": "stream",
     "text": [
      "Average training loss: 0.01 Accuracy: 1.00 : 100%|██████████| 469/469 [00:01<00:00, 271.27it/s]\n",
      "Average validation loss: 0.46 Accuracy: 0.91 : 100%|██████████| 94/94 [00:00<00:00, 978.81it/s]\n"
     ]
    },
    {
     "name": "stdout",
     "output_type": "stream",
     "text": [
      "\n",
      "Epoch 44\n"
     ]
    },
    {
     "name": "stderr",
     "output_type": "stream",
     "text": [
      "Average training loss: 0.01 Accuracy: 1.00 : 100%|██████████| 469/469 [00:01<00:00, 328.95it/s]\n",
      "Average validation loss: 0.39 Accuracy: 0.97 : 100%|██████████| 94/94 [00:00<00:00, 1005.79it/s]\n"
     ]
    },
    {
     "name": "stdout",
     "output_type": "stream",
     "text": [
      "\n",
      "Epoch 45\n"
     ]
    },
    {
     "name": "stderr",
     "output_type": "stream",
     "text": [
      "Average training loss: 0.01 Accuracy: 1.00 : 100%|██████████| 469/469 [00:01<00:00, 325.26it/s]\n",
      "Average validation loss: 0.42 Accuracy: 0.95 : 100%|██████████| 94/94 [00:00<00:00, 998.04it/s]\n"
     ]
    },
    {
     "name": "stdout",
     "output_type": "stream",
     "text": [
      "\n",
      "Epoch 46\n"
     ]
    },
    {
     "name": "stderr",
     "output_type": "stream",
     "text": [
      "Average training loss: 0.01 Accuracy: 0.99 : 100%|██████████| 469/469 [00:01<00:00, 329.58it/s]\n",
      "Average validation loss: 0.37 Accuracy: 0.96 : 100%|██████████| 94/94 [00:00<00:00, 1005.92it/s]\n"
     ]
    },
    {
     "name": "stdout",
     "output_type": "stream",
     "text": [
      "\n",
      "Epoch 47\n"
     ]
    },
    {
     "name": "stderr",
     "output_type": "stream",
     "text": [
      "Average training loss: 0.01 Accuracy: 1.00 : 100%|██████████| 469/469 [00:01<00:00, 324.37it/s]\n",
      "Average validation loss: 0.41 Accuracy: 0.96 : 100%|██████████| 94/94 [00:00<00:00, 877.82it/s]\n"
     ]
    },
    {
     "name": "stdout",
     "output_type": "stream",
     "text": [
      "\n",
      "Epoch 48\n"
     ]
    },
    {
     "name": "stderr",
     "output_type": "stream",
     "text": [
      "Average training loss: 0.01 Accuracy: 1.00 : 100%|██████████| 469/469 [00:01<00:00, 324.85it/s]\n",
      "Average validation loss: 0.39 Accuracy: 0.96 : 100%|██████████| 94/94 [00:00<00:00, 972.57it/s]\n"
     ]
    },
    {
     "name": "stdout",
     "output_type": "stream",
     "text": [
      "\n",
      "Epoch 49\n"
     ]
    },
    {
     "name": "stderr",
     "output_type": "stream",
     "text": [
      "Average training loss: 0.01 Accuracy: 1.00 : 100%|██████████| 469/469 [00:01<00:00, 327.89it/s]\n",
      "Average validation loss: 0.49 Accuracy: 0.94 : 100%|██████████| 94/94 [00:00<00:00, 1006.10it/s]\n"
     ]
    },
    {
     "name": "stdout",
     "output_type": "stream",
     "text": [
      "\n",
      "Epoch 50\n"
     ]
    },
    {
     "name": "stderr",
     "output_type": "stream",
     "text": [
      "Average training loss: 0.01 Accuracy: 1.00 : 100%|██████████| 469/469 [00:01<00:00, 270.77it/s]\n",
      "Average validation loss: 0.46 Accuracy: 0.95 : 100%|██████████| 94/94 [00:00<00:00, 631.38it/s]\n"
     ]
    },
    {
     "name": "stdout",
     "output_type": "stream",
     "text": [
      "Best epoch validation accuracy: 0.9681, validation loss: 0.2871\n",
      "\n",
      "Final model stored in serialization directory: serialization_dirs/main_dan_15k_with_emb_50_epoch\n",
      "Generating test predictions with arguments:\n",
      "<DictX {'load_serialization_dir': 'serialization_dirs/main_dan_15k_with_emb_50_epoch', 'data_file_path': 'data/imdb_sentiment_test.jsonl', 'predictions_file': 'dan_predictions_15k_50_epoch.txt', 'batch_size': 32}>\n"
     ]
    },
    {
     "name": "stderr",
     "output_type": "stream",
     "text": [
      "100%|██████████| 3000/3000 [00:01<00:00, 2872.66it/s]\n",
      "100%|██████████| 94/94 [00:00<00:00, 2636.30it/s]\n"
     ]
    },
    {
     "name": "stdout",
     "output_type": "stream",
     "text": [
      "Making predictions\n"
     ]
    },
    {
     "name": "stderr",
     "output_type": "stream",
     "text": [
      "100%|██████████| 94/94 [00:00<00:00, 1158.23it/s]\n"
     ]
    },
    {
     "name": "stdout",
     "output_type": "stream",
     "text": [
      "Saving predictions to filepath: dan_predictions_15k_50_epoch.txt\n",
      "Evaluating model using the following arguments:\n",
      "<DictX {'load_serialization_dir': 'serialization_dirs/main_dan_15k_with_emb_50_epoch', 'data_file_path': 'data/imdb_sentiment_test.jsonl', 'predictions_file': 'dan_predictions_15k_50_epoch.txt', 'batch_size': 32}>\n",
      "Accuracy: 0.84\n"
     ]
    }
   ],
   "source": [
    "train_args = DictX({})\n",
    "predict_args = DictX({})\n",
    "evaluate_args = DictX({})\n",
    "\n",
    "# Arguments for training\n",
    "train_args[\"model_name\"] = \"main\"\n",
    "train_args[\"train_data_file_path\"] = imdb_sentiment_train_15k_path\n",
    "train_args[\"validation_data_file_path\"] = imdb_sentiment_dev_path\n",
    "train_args[\"suffix_name\"] = \"_dan_15k_with_emb_50_epoch\"\n",
    "train_args[\"batch_size\"] = 32\n",
    "train_args[\"num_epochs\"] = 50\n",
    "train_args[\"seq2vec_choice\"] = \"dan\"\n",
    "train_args[\"embedding_dim\"] = 50\n",
    "train_args[\"num_layers\"] = 4\n",
    "train_args[\"pretrained_embedding_file\"] = pretrained_embedding_path\n",
    "\n",
    "\n",
    "# Arguments for probing\n",
    "train_args[\"base-model-dir\"] = \"\"\n",
    "train_args[\"layer_num\"] = \"\"\n",
    "\n",
    "# Arguments for testing\n",
    "predict_args[\n",
    "    \"load_serialization_dir\"\n",
    "] = \"serialization_dirs/main_dan_15k_with_emb_50_epoch\"\n",
    "predict_args[\"data_file_path\"] = imdb_sentiment_test_path\n",
    "predict_args[\"predictions_file\"] = \"dan_predictions_15k_50_epoch.txt\"\n",
    "predict_args[\"batch_size\"] = 32\n",
    "\n",
    "# Arguments for evaluating\n",
    "evaluate_args[\"gold_data_path\"] = imdb_sentiment_test_path\n",
    "evaluate_args[\"prediction_data_path\"] = \"dan_predictions.txt\"\n",
    "\n",
    "print(f\"Training the model with arguments:\\n{train_args}\")\n",
    "train_wrapper(train_args)\n",
    "print(f\"Generating test predictions with arguments:\\n{predict_args}\")\n",
    "test_wrapper(predict_args)\n",
    "print(f\"Evaluating model using the following arguments:\\n{predict_args}\")\n",
    "evaluate_wrapper(evaluate_args)"
   ]
  },
  {
   "cell_type": "markdown",
   "metadata": {},
   "source": [
    "##### GRU\n"
   ]
  },
  {
   "cell_type": "code",
   "execution_count": null,
   "metadata": {},
   "outputs": [
    {
     "name": "stdout",
     "output_type": "stream",
     "text": [
      "Training the model with arguments:\n",
      "<DictX {'model_name': 'main', 'train_data_file_path': 'data/imdb_sentiment_train_15k.jsonl', 'validation_data_file_path': 'data/imdb_sentiment_dev.jsonl', 'suffix_name': '_gru_15k_with_emb_50_epoch', 'batch_size': 32, 'num_epochs': 50, 'seq2vec_choice': 'gru', 'embedding_dim': 50, 'num_layers': 4, 'pretrained_embedding_file': 'data/glove.6B.50d.txt', 'base-model-dir': '', 'layer_num': ''}>\n",
      "Device: cuda:0\n",
      "Reading training instances.\n"
     ]
    },
    {
     "name": "stderr",
     "output_type": "stream",
     "text": [
      "100%|██████████| 15000/15000 [00:03<00:00, 3852.16it/s]\n"
     ]
    },
    {
     "name": "stdout",
     "output_type": "stream",
     "text": [
      "Reading validation instances.\n"
     ]
    },
    {
     "name": "stderr",
     "output_type": "stream",
     "text": [
      "100%|██████████| 3000/3000 [00:00<00:00, 3710.62it/s]\n"
     ]
    },
    {
     "name": "stdout",
     "output_type": "stream",
     "text": [
      "\n",
      "Building Vocabulary.\n",
      "\n",
      "Reading pretrained embedding file.\n"
     ]
    },
    {
     "name": "stderr",
     "output_type": "stream",
     "text": [
      "400000it [00:00, 534260.30it/s]\n"
     ]
    },
    {
     "name": "stdout",
     "output_type": "stream",
     "text": [
      "\n",
      "Generating Training batches:\n"
     ]
    },
    {
     "name": "stderr",
     "output_type": "stream",
     "text": [
      "100%|██████████| 469/469 [00:00<00:00, 2676.49it/s]\n"
     ]
    },
    {
     "name": "stdout",
     "output_type": "stream",
     "text": [
      "Generating Validation batches:\n"
     ]
    },
    {
     "name": "stderr",
     "output_type": "stream",
     "text": [
      "100%|██████████| 94/94 [00:00<00:00, 2635.81it/s]\n"
     ]
    },
    {
     "name": "stdout",
     "output_type": "stream",
     "text": [
      "\n",
      "Epoch 1\n"
     ]
    },
    {
     "name": "stderr",
     "output_type": "stream",
     "text": [
      "Average training loss: 0.53 Accuracy: 0.76 : 100%|██████████| 469/469 [00:13<00:00, 34.15it/s]\n",
      "Average validation loss: 0.30 Accuracy: 0.88 : 100%|██████████| 94/94 [00:01<00:00, 93.54it/s]\n"
     ]
    },
    {
     "name": "stdout",
     "output_type": "stream",
     "text": [
      "Model with best validation accuracy so far: 0.88. Saving the model.\n",
      "\n",
      "Epoch 2\n"
     ]
    },
    {
     "name": "stderr",
     "output_type": "stream",
     "text": [
      "Average training loss: 0.25 Accuracy: 0.91 : 100%|██████████| 469/469 [00:14<00:00, 33.48it/s]\n",
      "Average validation loss: 0.25 Accuracy: 0.89 : 100%|██████████| 94/94 [00:01<00:00, 78.93it/s]\n"
     ]
    },
    {
     "name": "stdout",
     "output_type": "stream",
     "text": [
      "Model with best validation accuracy so far: 0.89. Saving the model.\n",
      "\n",
      "Epoch 3\n"
     ]
    },
    {
     "name": "stderr",
     "output_type": "stream",
     "text": [
      "Average training loss: 0.17 Accuracy: 0.94 : 100%|██████████| 469/469 [00:13<00:00, 34.08it/s]\n",
      "Average validation loss: 0.19 Accuracy: 0.93 : 100%|██████████| 94/94 [00:00<00:00, 103.64it/s]\n"
     ]
    },
    {
     "name": "stdout",
     "output_type": "stream",
     "text": [
      "Model with best validation accuracy so far: 0.93. Saving the model.\n",
      "\n",
      "Epoch 4\n"
     ]
    },
    {
     "name": "stderr",
     "output_type": "stream",
     "text": [
      "Average training loss: 0.11 Accuracy: 0.95 : 100%|██████████| 469/469 [00:13<00:00, 34.09it/s]\n",
      "Average validation loss: 0.20 Accuracy: 0.95 : 100%|██████████| 94/94 [00:00<00:00, 105.84it/s]\n"
     ]
    },
    {
     "name": "stdout",
     "output_type": "stream",
     "text": [
      "Model with best validation accuracy so far: 0.95. Saving the model.\n",
      "\n",
      "Epoch 5\n"
     ]
    },
    {
     "name": "stderr",
     "output_type": "stream",
     "text": [
      "Average training loss: 0.09 Accuracy: 0.98 : 100%|██████████| 469/469 [00:13<00:00, 34.82it/s]\n",
      "Average validation loss: 0.20 Accuracy: 0.96 : 100%|██████████| 94/94 [00:00<00:00, 107.69it/s]\n"
     ]
    },
    {
     "name": "stdout",
     "output_type": "stream",
     "text": [
      "Model with best validation accuracy so far: 0.96. Saving the model.\n",
      "\n",
      "Epoch 6\n"
     ]
    },
    {
     "name": "stderr",
     "output_type": "stream",
     "text": [
      "Average training loss: 0.05 Accuracy: 0.99 : 100%|██████████| 469/469 [00:13<00:00, 34.46it/s]\n",
      "Average validation loss: 0.22 Accuracy: 0.97 : 100%|██████████| 94/94 [00:00<00:00, 106.36it/s]\n"
     ]
    },
    {
     "name": "stdout",
     "output_type": "stream",
     "text": [
      "Model with best validation accuracy so far: 0.97. Saving the model.\n",
      "\n",
      "Epoch 7\n"
     ]
    },
    {
     "name": "stderr",
     "output_type": "stream",
     "text": [
      "Average training loss: 0.04 Accuracy: 0.99 : 100%|██████████| 469/469 [00:13<00:00, 34.35it/s]\n",
      "Average validation loss: 0.22 Accuracy: 0.96 : 100%|██████████| 94/94 [00:00<00:00, 108.08it/s]\n"
     ]
    },
    {
     "name": "stdout",
     "output_type": "stream",
     "text": [
      "\n",
      "Epoch 8\n"
     ]
    },
    {
     "name": "stderr",
     "output_type": "stream",
     "text": [
      "Average training loss: 0.04 Accuracy: 0.99 : 100%|██████████| 469/469 [00:13<00:00, 34.30it/s]\n",
      "Average validation loss: 0.23 Accuracy: 0.96 : 100%|██████████| 94/94 [00:00<00:00, 105.60it/s]\n"
     ]
    },
    {
     "name": "stdout",
     "output_type": "stream",
     "text": [
      "\n",
      "Epoch 9\n"
     ]
    },
    {
     "name": "stderr",
     "output_type": "stream",
     "text": [
      "Average training loss: 0.02 Accuracy: 1.00 : 100%|██████████| 469/469 [00:13<00:00, 33.92it/s]\n",
      "Average validation loss: 0.23 Accuracy: 0.96 : 100%|██████████| 94/94 [00:00<00:00, 104.46it/s]\n"
     ]
    },
    {
     "name": "stdout",
     "output_type": "stream",
     "text": [
      "\n",
      "Epoch 10\n"
     ]
    },
    {
     "name": "stderr",
     "output_type": "stream",
     "text": [
      "Average training loss: 0.02 Accuracy: 0.99 : 100%|██████████| 469/469 [00:13<00:00, 34.10it/s]\n",
      "Average validation loss: 0.28 Accuracy: 0.97 : 100%|██████████| 94/94 [00:00<00:00, 98.25it/s]\n"
     ]
    },
    {
     "name": "stdout",
     "output_type": "stream",
     "text": [
      "\n",
      "Epoch 11\n"
     ]
    },
    {
     "name": "stderr",
     "output_type": "stream",
     "text": [
      "Average training loss: 0.02 Accuracy: 1.00 : 100%|██████████| 469/469 [00:13<00:00, 33.52it/s]\n",
      "Average validation loss: 0.29 Accuracy: 0.96 : 100%|██████████| 94/94 [00:01<00:00, 71.62it/s]\n"
     ]
    },
    {
     "name": "stdout",
     "output_type": "stream",
     "text": [
      "\n",
      "Epoch 12\n"
     ]
    },
    {
     "name": "stderr",
     "output_type": "stream",
     "text": [
      "Average training loss: 0.02 Accuracy: 1.00 : 100%|██████████| 469/469 [00:13<00:00, 33.72it/s]\n",
      "Average validation loss: 0.24 Accuracy: 0.96 : 100%|██████████| 94/94 [00:01<00:00, 84.08it/s]\n"
     ]
    },
    {
     "name": "stdout",
     "output_type": "stream",
     "text": [
      "\n",
      "Epoch 13\n"
     ]
    },
    {
     "name": "stderr",
     "output_type": "stream",
     "text": [
      "Average training loss: 0.01 Accuracy: 1.00 : 100%|██████████| 469/469 [00:13<00:00, 34.69it/s]\n",
      "Average validation loss: 0.25 Accuracy: 0.96 : 100%|██████████| 94/94 [00:00<00:00, 105.01it/s]\n"
     ]
    },
    {
     "name": "stdout",
     "output_type": "stream",
     "text": [
      "\n",
      "Epoch 14\n"
     ]
    },
    {
     "name": "stderr",
     "output_type": "stream",
     "text": [
      "Average training loss: 0.01 Accuracy: 1.00 : 100%|██████████| 469/469 [00:13<00:00, 34.23it/s]\n",
      "Average validation loss: 0.27 Accuracy: 0.96 : 100%|██████████| 94/94 [00:00<00:00, 104.84it/s]\n"
     ]
    },
    {
     "name": "stdout",
     "output_type": "stream",
     "text": [
      "\n",
      "Epoch 15\n"
     ]
    },
    {
     "name": "stderr",
     "output_type": "stream",
     "text": [
      "Average training loss: 0.01 Accuracy: 1.00 : 100%|██████████| 469/469 [00:13<00:00, 34.59it/s]\n",
      "Average validation loss: 0.30 Accuracy: 0.97 : 100%|██████████| 94/94 [00:00<00:00, 107.56it/s]\n"
     ]
    },
    {
     "name": "stdout",
     "output_type": "stream",
     "text": [
      "\n",
      "Epoch 16\n"
     ]
    },
    {
     "name": "stderr",
     "output_type": "stream",
     "text": [
      "Average training loss: 0.01 Accuracy: 1.00 : 100%|██████████| 469/469 [00:13<00:00, 34.86it/s]\n",
      "Average validation loss: 0.33 Accuracy: 0.98 : 100%|██████████| 94/94 [00:00<00:00, 107.53it/s]\n"
     ]
    },
    {
     "name": "stdout",
     "output_type": "stream",
     "text": [
      "Model with best validation accuracy so far: 0.98. Saving the model.\n",
      "\n",
      "Epoch 17\n"
     ]
    },
    {
     "name": "stderr",
     "output_type": "stream",
     "text": [
      "Average training loss: 0.01 Accuracy: 1.00 : 100%|██████████| 469/469 [00:13<00:00, 34.34it/s]\n",
      "Average validation loss: 0.29 Accuracy: 0.97 : 100%|██████████| 94/94 [00:00<00:00, 103.95it/s]\n"
     ]
    },
    {
     "name": "stdout",
     "output_type": "stream",
     "text": [
      "\n",
      "Epoch 18\n"
     ]
    },
    {
     "name": "stderr",
     "output_type": "stream",
     "text": [
      "Average training loss: 0.01 Accuracy: 1.00 : 100%|██████████| 469/469 [00:13<00:00, 34.29it/s]\n",
      "Average validation loss: 0.34 Accuracy: 0.97 : 100%|██████████| 94/94 [00:00<00:00, 105.65it/s]\n"
     ]
    },
    {
     "name": "stdout",
     "output_type": "stream",
     "text": [
      "\n",
      "Epoch 19\n"
     ]
    },
    {
     "name": "stderr",
     "output_type": "stream",
     "text": [
      "Average training loss: 0.01 Accuracy: 1.00 : 100%|██████████| 469/469 [00:13<00:00, 34.30it/s]\n",
      "Average validation loss: 0.31 Accuracy: 0.96 : 100%|██████████| 94/94 [00:00<00:00, 106.65it/s]\n"
     ]
    },
    {
     "name": "stdout",
     "output_type": "stream",
     "text": [
      "\n",
      "Epoch 20\n"
     ]
    },
    {
     "name": "stderr",
     "output_type": "stream",
     "text": [
      "Average training loss: 0.01 Accuracy: 1.00 : 100%|██████████| 469/469 [00:13<00:00, 33.76it/s]\n",
      "Average validation loss: 0.29 Accuracy: 0.97 : 100%|██████████| 94/94 [00:00<00:00, 105.69it/s]\n"
     ]
    },
    {
     "name": "stdout",
     "output_type": "stream",
     "text": [
      "\n",
      "Epoch 21\n"
     ]
    },
    {
     "name": "stderr",
     "output_type": "stream",
     "text": [
      "Average training loss: 0.01 Accuracy: 1.00 : 100%|██████████| 469/469 [00:13<00:00, 33.60it/s]\n",
      "Average validation loss: 0.31 Accuracy: 0.97 : 100%|██████████| 94/94 [00:01<00:00, 72.01it/s]\n"
     ]
    },
    {
     "name": "stdout",
     "output_type": "stream",
     "text": [
      "\n",
      "Epoch 22\n"
     ]
    },
    {
     "name": "stderr",
     "output_type": "stream",
     "text": [
      "Average training loss: 0.01 Accuracy: 1.00 : 100%|██████████| 469/469 [00:13<00:00, 34.60it/s]\n",
      "Average validation loss: 0.26 Accuracy: 0.96 : 100%|██████████| 94/94 [00:01<00:00, 73.85it/s]\n"
     ]
    },
    {
     "name": "stdout",
     "output_type": "stream",
     "text": [
      "\n",
      "Epoch 23\n"
     ]
    },
    {
     "name": "stderr",
     "output_type": "stream",
     "text": [
      "Average training loss: 0.01 Accuracy: 1.00 : 100%|██████████| 469/469 [00:13<00:00, 34.60it/s]\n",
      "Average validation loss: 0.30 Accuracy: 0.96 : 100%|██████████| 94/94 [00:00<00:00, 106.81it/s]\n"
     ]
    },
    {
     "name": "stdout",
     "output_type": "stream",
     "text": [
      "\n",
      "Epoch 24\n"
     ]
    },
    {
     "name": "stderr",
     "output_type": "stream",
     "text": [
      "Average training loss: 0.01 Accuracy: 1.00 : 100%|██████████| 469/469 [00:13<00:00, 34.50it/s]\n",
      "Average validation loss: 0.31 Accuracy: 0.96 : 100%|██████████| 94/94 [00:00<00:00, 106.20it/s]\n"
     ]
    },
    {
     "name": "stdout",
     "output_type": "stream",
     "text": [
      "\n",
      "Epoch 25\n"
     ]
    },
    {
     "name": "stderr",
     "output_type": "stream",
     "text": [
      "Average training loss: 0.01 Accuracy: 1.00 : 100%|██████████| 469/469 [00:13<00:00, 34.01it/s]\n",
      "Average validation loss: 0.31 Accuracy: 0.97 : 100%|██████████| 94/94 [00:00<00:00, 103.69it/s]\n"
     ]
    },
    {
     "name": "stdout",
     "output_type": "stream",
     "text": [
      "\n",
      "Epoch 26\n"
     ]
    },
    {
     "name": "stderr",
     "output_type": "stream",
     "text": [
      "Average training loss: 0.01 Accuracy: 1.00 : 100%|██████████| 469/469 [00:13<00:00, 34.66it/s]\n",
      "Average validation loss: 0.36 Accuracy: 0.96 : 100%|██████████| 94/94 [00:00<00:00, 105.83it/s]\n"
     ]
    },
    {
     "name": "stdout",
     "output_type": "stream",
     "text": [
      "\n",
      "Epoch 27\n"
     ]
    },
    {
     "name": "stderr",
     "output_type": "stream",
     "text": [
      "Average training loss: 0.01 Accuracy: 1.00 : 100%|██████████| 469/469 [00:13<00:00, 34.72it/s]\n",
      "Average validation loss: 0.31 Accuracy: 0.96 : 100%|██████████| 94/94 [00:00<00:00, 105.78it/s]\n"
     ]
    },
    {
     "name": "stdout",
     "output_type": "stream",
     "text": [
      "\n",
      "Epoch 28\n"
     ]
    },
    {
     "name": "stderr",
     "output_type": "stream",
     "text": [
      "Average training loss: 0.01 Accuracy: 1.00 : 100%|██████████| 469/469 [00:13<00:00, 34.34it/s]\n",
      "Average validation loss: 0.35 Accuracy: 0.96 : 100%|██████████| 94/94 [00:00<00:00, 107.45it/s]\n"
     ]
    },
    {
     "name": "stdout",
     "output_type": "stream",
     "text": [
      "\n",
      "Epoch 29\n"
     ]
    },
    {
     "name": "stderr",
     "output_type": "stream",
     "text": [
      "Average training loss: 0.00 Accuracy: 1.00 : 100%|██████████| 469/469 [00:13<00:00, 33.98it/s]\n",
      "Average validation loss: 0.34 Accuracy: 0.96 : 100%|██████████| 94/94 [00:00<00:00, 103.38it/s]\n"
     ]
    },
    {
     "name": "stdout",
     "output_type": "stream",
     "text": [
      "\n",
      "Epoch 30\n"
     ]
    },
    {
     "name": "stderr",
     "output_type": "stream",
     "text": [
      "Average training loss: 0.01 Accuracy: 1.00 : 100%|██████████| 469/469 [00:13<00:00, 33.87it/s]\n",
      "Average validation loss: 0.33 Accuracy: 0.95 : 100%|██████████| 94/94 [00:00<00:00, 104.66it/s]\n"
     ]
    },
    {
     "name": "stdout",
     "output_type": "stream",
     "text": [
      "\n",
      "Epoch 31\n"
     ]
    },
    {
     "name": "stderr",
     "output_type": "stream",
     "text": [
      "Average training loss: 0.01 Accuracy: 1.00 : 100%|██████████| 469/469 [00:13<00:00, 34.05it/s]\n",
      "Average validation loss: 0.35 Accuracy: 0.96 : 100%|██████████| 94/94 [00:01<00:00, 74.11it/s]\n"
     ]
    },
    {
     "name": "stdout",
     "output_type": "stream",
     "text": [
      "\n",
      "Epoch 32\n"
     ]
    },
    {
     "name": "stderr",
     "output_type": "stream",
     "text": [
      "Average training loss: 0.00 Accuracy: 1.00 : 100%|██████████| 469/469 [00:13<00:00, 33.70it/s]\n",
      "Average validation loss: 0.36 Accuracy: 0.96 : 100%|██████████| 94/94 [00:01<00:00, 73.32it/s]\n"
     ]
    },
    {
     "name": "stdout",
     "output_type": "stream",
     "text": [
      "\n",
      "Epoch 33\n"
     ]
    },
    {
     "name": "stderr",
     "output_type": "stream",
     "text": [
      "Average training loss: 0.00 Accuracy: 1.00 : 100%|██████████| 469/469 [00:13<00:00, 33.72it/s]\n",
      "Average validation loss: 0.36 Accuracy: 0.96 : 100%|██████████| 94/94 [00:00<00:00, 104.09it/s]\n"
     ]
    },
    {
     "name": "stdout",
     "output_type": "stream",
     "text": [
      "\n",
      "Epoch 34\n"
     ]
    },
    {
     "name": "stderr",
     "output_type": "stream",
     "text": [
      "Average training loss: 0.00 Accuracy: 1.00 : 100%|██████████| 469/469 [00:13<00:00, 34.01it/s]\n",
      "Average validation loss: 0.36 Accuracy: 0.96 : 100%|██████████| 94/94 [00:00<00:00, 104.23it/s]\n"
     ]
    },
    {
     "name": "stdout",
     "output_type": "stream",
     "text": [
      "\n",
      "Epoch 35\n"
     ]
    },
    {
     "name": "stderr",
     "output_type": "stream",
     "text": [
      "Average training loss: 0.01 Accuracy: 0.99 : 100%|██████████| 469/469 [00:13<00:00, 34.23it/s]\n",
      "Average validation loss: 0.35 Accuracy: 0.95 : 100%|██████████| 94/94 [00:00<00:00, 105.41it/s]\n"
     ]
    },
    {
     "name": "stdout",
     "output_type": "stream",
     "text": [
      "\n",
      "Epoch 36\n"
     ]
    },
    {
     "name": "stderr",
     "output_type": "stream",
     "text": [
      "Average training loss: 0.01 Accuracy: 1.00 : 100%|██████████| 469/469 [00:13<00:00, 33.76it/s]\n",
      "Average validation loss: 0.35 Accuracy: 0.97 : 100%|██████████| 94/94 [00:00<00:00, 105.14it/s]\n"
     ]
    },
    {
     "name": "stdout",
     "output_type": "stream",
     "text": [
      "\n",
      "Epoch 37\n"
     ]
    },
    {
     "name": "stderr",
     "output_type": "stream",
     "text": [
      "Average training loss: 0.00 Accuracy: 1.00 : 100%|██████████| 469/469 [00:13<00:00, 34.02it/s]\n",
      "Average validation loss: 0.37 Accuracy: 0.97 : 100%|██████████| 94/94 [00:00<00:00, 104.65it/s]\n"
     ]
    },
    {
     "name": "stdout",
     "output_type": "stream",
     "text": [
      "\n",
      "Epoch 38\n"
     ]
    },
    {
     "name": "stderr",
     "output_type": "stream",
     "text": [
      "Average training loss: 0.00 Accuracy: 1.00 : 100%|██████████| 469/469 [00:13<00:00, 34.70it/s]\n",
      "Average validation loss: 0.37 Accuracy: 0.97 : 100%|██████████| 94/94 [00:00<00:00, 105.88it/s]\n"
     ]
    },
    {
     "name": "stdout",
     "output_type": "stream",
     "text": [
      "\n",
      "Epoch 39\n"
     ]
    },
    {
     "name": "stderr",
     "output_type": "stream",
     "text": [
      "Average training loss: 0.00 Accuracy: 1.00 : 100%|██████████| 469/469 [00:13<00:00, 34.33it/s]\n",
      "Average validation loss: 0.35 Accuracy: 0.98 : 100%|██████████| 94/94 [00:00<00:00, 102.95it/s]\n"
     ]
    },
    {
     "name": "stdout",
     "output_type": "stream",
     "text": [
      "\n",
      "Epoch 40\n"
     ]
    },
    {
     "name": "stderr",
     "output_type": "stream",
     "text": [
      "Average training loss: 0.00 Accuracy: 1.00 : 100%|██████████| 469/469 [00:13<00:00, 34.14it/s]\n",
      "Average validation loss: 0.36 Accuracy: 0.98 : 100%|██████████| 94/94 [00:00<00:00, 94.33it/s]\n"
     ]
    },
    {
     "name": "stdout",
     "output_type": "stream",
     "text": [
      "\n",
      "Epoch 41\n"
     ]
    },
    {
     "name": "stderr",
     "output_type": "stream",
     "text": [
      "Average training loss: 0.00 Accuracy: 1.00 : 100%|██████████| 469/469 [00:13<00:00, 33.97it/s]\n",
      "Average validation loss: 0.39 Accuracy: 0.97 : 100%|██████████| 94/94 [00:01<00:00, 70.57it/s]\n"
     ]
    },
    {
     "name": "stdout",
     "output_type": "stream",
     "text": [
      "\n",
      "Epoch 42\n"
     ]
    },
    {
     "name": "stderr",
     "output_type": "stream",
     "text": [
      "Average training loss: 0.00 Accuracy: 1.00 : 100%|██████████| 469/469 [00:13<00:00, 33.50it/s]\n",
      "Average validation loss: 0.38 Accuracy: 0.97 : 100%|██████████| 94/94 [00:01<00:00, 84.45it/s]\n"
     ]
    },
    {
     "name": "stdout",
     "output_type": "stream",
     "text": [
      "\n",
      "Epoch 43\n"
     ]
    },
    {
     "name": "stderr",
     "output_type": "stream",
     "text": [
      "Average training loss: 0.01 Accuracy: 1.00 : 100%|██████████| 469/469 [00:13<00:00, 34.02it/s]\n",
      "Average validation loss: 0.37 Accuracy: 0.97 : 100%|██████████| 94/94 [00:00<00:00, 108.06it/s]\n"
     ]
    },
    {
     "name": "stdout",
     "output_type": "stream",
     "text": [
      "\n",
      "Epoch 44\n"
     ]
    },
    {
     "name": "stderr",
     "output_type": "stream",
     "text": [
      "Average training loss: 0.00 Accuracy: 1.00 : 100%|██████████| 469/469 [00:13<00:00, 33.91it/s]\n",
      "Average validation loss: 0.38 Accuracy: 0.96 : 100%|██████████| 94/94 [00:00<00:00, 107.16it/s]\n"
     ]
    },
    {
     "name": "stdout",
     "output_type": "stream",
     "text": [
      "\n",
      "Epoch 45\n"
     ]
    },
    {
     "name": "stderr",
     "output_type": "stream",
     "text": [
      "Average training loss: 0.01 Accuracy: 1.00 : 100%|██████████| 469/469 [00:13<00:00, 33.94it/s]\n",
      "Average validation loss: 0.39 Accuracy: 0.98 : 100%|██████████| 94/94 [00:00<00:00, 104.70it/s]\n"
     ]
    },
    {
     "name": "stdout",
     "output_type": "stream",
     "text": [
      "\n",
      "Epoch 46\n"
     ]
    },
    {
     "name": "stderr",
     "output_type": "stream",
     "text": [
      "Average training loss: 0.01 Accuracy: 1.00 : 100%|██████████| 469/469 [00:13<00:00, 33.98it/s]\n",
      "Average validation loss: 0.33 Accuracy: 0.96 : 100%|██████████| 94/94 [00:00<00:00, 104.00it/s]\n"
     ]
    },
    {
     "name": "stdout",
     "output_type": "stream",
     "text": [
      "\n",
      "Epoch 47\n"
     ]
    },
    {
     "name": "stderr",
     "output_type": "stream",
     "text": [
      "Average training loss: 0.00 Accuracy: 1.00 : 100%|██████████| 469/469 [00:13<00:00, 33.78it/s]\n",
      "Average validation loss: 0.37 Accuracy: 0.97 : 100%|██████████| 94/94 [00:00<00:00, 101.66it/s]\n"
     ]
    },
    {
     "name": "stdout",
     "output_type": "stream",
     "text": [
      "\n",
      "Epoch 48\n"
     ]
    },
    {
     "name": "stderr",
     "output_type": "stream",
     "text": [
      "Average training loss: 0.00 Accuracy: 1.00 : 100%|██████████| 469/469 [00:13<00:00, 34.08it/s]\n",
      "Average validation loss: 0.38 Accuracy: 0.96 : 100%|██████████| 94/94 [00:00<00:00, 104.55it/s]\n"
     ]
    },
    {
     "name": "stdout",
     "output_type": "stream",
     "text": [
      "\n",
      "Epoch 49\n"
     ]
    },
    {
     "name": "stderr",
     "output_type": "stream",
     "text": [
      "Average training loss: 0.00 Accuracy: 1.00 : 100%|██████████| 469/469 [00:13<00:00, 34.13it/s]\n",
      "Average validation loss: 0.39 Accuracy: 0.97 : 100%|██████████| 94/94 [00:00<00:00, 104.26it/s]\n"
     ]
    },
    {
     "name": "stdout",
     "output_type": "stream",
     "text": [
      "\n",
      "Epoch 50\n"
     ]
    },
    {
     "name": "stderr",
     "output_type": "stream",
     "text": [
      "Average training loss: 0.00 Accuracy: 1.00 : 100%|██████████| 469/469 [00:13<00:00, 34.45it/s]\n",
      "Average validation loss: 0.40 Accuracy: 0.97 : 100%|██████████| 94/94 [00:01<00:00, 71.56it/s]\n"
     ]
    },
    {
     "name": "stdout",
     "output_type": "stream",
     "text": [
      "Best epoch validation accuracy: 0.9787, validation loss: 0.3273\n",
      "\n",
      "Final model stored in serialization directory: serialization_dirs/main_gru_15k_with_emb_50_epoch\n",
      "Generating test predictions with arguments:\n",
      "<DictX {'load_serialization_dir': 'serialization_dirs/main_gru_15k_with_emb_50_epoch', 'data_file_path': 'data/imdb_sentiment_test.jsonl', 'predictions_file': 'gru_predictions_15k_50_epoch.txt', 'batch_size': 32}>\n"
     ]
    },
    {
     "name": "stderr",
     "output_type": "stream",
     "text": [
      "100%|██████████| 3000/3000 [00:01<00:00, 2573.38it/s]\n",
      "100%|██████████| 94/94 [00:00<00:00, 2650.59it/s]\n"
     ]
    },
    {
     "name": "stdout",
     "output_type": "stream",
     "text": [
      "Making predictions\n"
     ]
    },
    {
     "name": "stderr",
     "output_type": "stream",
     "text": [
      "100%|██████████| 94/94 [00:00<00:00, 106.06it/s]\n"
     ]
    },
    {
     "name": "stdout",
     "output_type": "stream",
     "text": [
      "Saving predictions to filepath: gru_predictions_15k_50_epoch.txt\n",
      "Evaluating model using the following arguments:\n",
      "<DictX {'load_serialization_dir': 'serialization_dirs/main_gru_15k_with_emb_50_epoch', 'data_file_path': 'data/imdb_sentiment_test.jsonl', 'predictions_file': 'gru_predictions_15k_50_epoch.txt', 'batch_size': 32}>\n",
      "Accuracy: 0.84\n"
     ]
    }
   ],
   "source": [
    "train_args = DictX({})\n",
    "predict_args = DictX({})\n",
    "evaluate_args = DictX({})\n",
    "\n",
    "# Arguments for training\n",
    "train_args[\"model_name\"] = \"main\"\n",
    "train_args[\"train_data_file_path\"] = imdb_sentiment_train_15k_path\n",
    "train_args[\"validation_data_file_path\"] = imdb_sentiment_dev_path\n",
    "train_args[\"suffix_name\"] = \"_gru_15k_with_emb_50_epoch\"\n",
    "train_args[\"batch_size\"] = 32\n",
    "train_args[\"num_epochs\"] = 50\n",
    "train_args[\"seq2vec_choice\"] = \"gru\"\n",
    "train_args[\"embedding_dim\"] = 50\n",
    "train_args[\"num_layers\"] = 4\n",
    "train_args[\"pretrained_embedding_file\"] = pretrained_embedding_path\n",
    "\n",
    "\n",
    "# Arguments for probing\n",
    "train_args[\"base-model-dir\"] = \"\"\n",
    "train_args[\"layer_num\"] = \"\"\n",
    "\n",
    "# Arguments for testing\n",
    "predict_args[\n",
    "    \"load_serialization_dir\"\n",
    "] = \"serialization_dirs/main_gru_15k_with_emb_50_epoch\"\n",
    "predict_args[\"data_file_path\"] = imdb_sentiment_test_path\n",
    "predict_args[\"predictions_file\"] = \"gru_predictions_15k_50_epoch.txt\"\n",
    "predict_args[\"batch_size\"] = 32\n",
    "\n",
    "# Arguments for evaluating\n",
    "evaluate_args[\"gold_data_path\"] = imdb_sentiment_test_path\n",
    "evaluate_args[\"prediction_data_path\"] = \"dan_predictions.txt\"\n",
    "\n",
    "print(f\"Training the model with arguments:\\n{train_args}\")\n",
    "train_wrapper(train_args)\n",
    "print(f\"Generating test predictions with arguments:\\n{predict_args}\")\n",
    "test_wrapper(predict_args)\n",
    "print(f\"Evaluating model using the following arguments:\\n{predict_args}\")\n",
    "evaluate_wrapper(evaluate_args)"
   ]
  },
  {
   "cell_type": "markdown",
   "metadata": {},
   "source": [
    "##### Analysis\n"
   ]
  },
  {
   "cell_type": "code",
   "execution_count": null,
   "metadata": {},
   "outputs": [
    {
     "data": {
      "text/plain": [
       "Output hidden; open in https://colab.research.google.com to view."
      ]
     },
     "metadata": {},
     "output_type": "display_data"
    }
   ],
   "source": [
    "%load_ext tensorboard\n",
    "%tensorboard --logdir \"serialization_dirs\""
   ]
  },
  {
   "attachments": {},
   "cell_type": "markdown",
   "metadata": {},
   "source": [
    "![Tensorboard](plots/tensorboard.png)\n",
    "\n",
    "The results show that both DAN and GRU models improve their performance as the number of epochs increases. However, the improvement is not as significant in the later epochs as it is in the earlier epochs. This aligns with the expectation that the performance of the models might plateau or even degrade after a certain number of epochs due to overfitting or convergence.\n",
    "\n",
    "We observe that the DAN model converges faster than the GRU model. The DAN model has a lower loss and a higher accuracy than the GRU model. This is in line with our expectations. Should the learning rate be increased, the models will take larger steps and will converge faster. However, they will also be more likely to overshoot the minimum and will not converge to the optimal solution. If the learning rate is decreased, the models will take smaller steps and will converge more slowly, with more precision; however, the risk of getting stuck in a local minimum is higher.\n",
    "\n",
    "GRU models seem to perform better in cases where the order of words or the context of the sentence is crucial to understanding the meaning. DAN models, due to their averaging nature, might struggle more with ambiguous cases, such as involving polysemy. DAN, unlike GRU, might correctly predict an answer based on the overall meaning of a sentence because they are better at capturing sentence-level features and understanding the overall meaning of sentences, rather than relationships between individual words and their ordering like GRU.\n"
   ]
  },
  {
   "cell_type": "markdown",
   "metadata": {},
   "source": [
    "### Probing: Layer Depth vs Information Retained\n"
   ]
  },
  {
   "cell_type": "markdown",
   "metadata": {},
   "source": [
    "In this task, we are interested in what each layer of our models (both DAN and GRU) are capturing with respect to their ability to predict sentiment. We will first take output of first hidden layer, then second, and so on. The output of these layers is then fed to a linear classifier which makes the prediction. Thus we get 4 models for 4 layers.\n",
    "\n",
    "We expect the model with the highest number of layers to perform the best, as it will have the most information to work with. However, the model with the highest number of layers will also be the most complex and will be more likely to overfit or suffer from vanishing gradients. For the DAN model, which uses an average of word embeddings as input and then applies multiple feedforward layers, we expect that the deeper layers will capture more meaningful and abstract representations of the input. We expect the same for the GRU model, which uses a sequence of word embeddings as input and then applies multiple recurrent layers.\n"
   ]
  },
  {
   "cell_type": "code",
   "execution_count": null,
   "metadata": {},
   "outputs": [
    {
     "data": {
      "image/png": "[encoded data removed]",
      "text/plain": [
       "<Figure size 640x480 with 1 Axes>"
      ]
     },
     "metadata": {},
     "output_type": "display_data"
    },
    {
     "data": {
      "image/png": "[encoded data removed]",
      "text/plain": [
       "<Figure size 640x480 with 1 Axes>"
      ]
     },
     "metadata": {},
     "output_type": "display_data"
    },
    {
     "data": {
      "text/plain": [
       "<Figure size 640x480 with 0 Axes>"
      ]
     },
     "metadata": {},
     "output_type": "display_data"
    }
   ],
   "source": [
    "def probing_layer_info():\n",
    "    probing_accuracies = {\"dan\": [], \"gru\": []}\n",
    "    choices = {\"dan\": range(1, 4 + 1), \"gru\": range(1, 4 + 1)}\n",
    "    datasets = {\n",
    "        \"5k\": imdb_sentiment_train_5k_path,\n",
    "        \"10k\": imdb_sentiment_train_10k_path,\n",
    "        \"15k\": imdb_sentiment_train_15k_path,\n",
    "    }\n",
    "    train_args[\"model_name\"] = \"main\"\n",
    "    train_args[\"num_epochs\"] = 8\n",
    "    train_args[\"embedding_dim\"] = 50\n",
    "    train_args[\"num_layers\"] = 4\n",
    "    train_args[\"batch_size\"] = 32\n",
    "    train_args[\"pretrained_embedding_file\"] = pretrained_embedding_path\n",
    "    for seq2vec_choice, layers in choices.items():\n",
    "        serialization_dir = os.path.join(\n",
    "            \"serialization_dirs\", f\"main_{seq2vec_choice}_5k_with_emb\"\n",
    "        )\n",
    "        metrics_path = os.path.join(serialization_dir, \"metrics.json\")\n",
    "        if not os.path.exists(metrics_path):\n",
    "            train_args[\"train_data_file_path\"] = datasets[\"5k\"]\n",
    "            train_args[\"validation_data_file_path\"] = imdb_sentiment_dev_path\n",
    "            train_args[\"suffix_name\"] = f\"_{seq2vec_choice}_5k_with_emb\"\n",
    "            train_args[\"seq2vec_choice\"] = seq2vec_choice\n",
    "            train_args[\"base_model_dir\"] = serialization_dir\n",
    "            print(f\"Training the model with arguments:\\n{train_args}\")\n",
    "            train_wrapper(train_args)\n",
    "            predict_args[\"load_serialization_dir\"] = serialization_dir\n",
    "            predict_args[\"data_file_path\"] = imdb_sentiment_test_path\n",
    "            predict_args[\n",
    "                \"predictions_file\"\n",
    "            ] = f\"main_{seq2vec_choice}_5k_predictions.txt\"\n",
    "            print(f\"Generating test predictions with arguments:\\n{predict_args}\")\n",
    "            test_wrapper(predict_args)\n",
    "            print(f\"Evaluating model using the following arguments:\\n{predict_args}\")\n",
    "            evaluate_args[\"gold_data_path\"] = imdb_sentiment_test_path\n",
    "            evaluate_args[\n",
    "                \"prediction_data_path\"\n",
    "            ] = f\"main_{seq2vec_choice}_5k_predictions.txt\"\n",
    "            evaluate_wrapper(evaluate_args)\n",
    "\n",
    "        for layer in layers:\n",
    "            serialization_dir = os.path.join(\n",
    "                \"serialization_dirs\",\n",
    "                f\"probing_sentiment_{seq2vec_choice}_with_emb_on_5k_at_layer_{layer}\",\n",
    "            )\n",
    "            model_files_present = all(\n",
    "                [\n",
    "                    os.path.exists(os.path.join(serialization_dir, file_name))\n",
    "                    for file_name in [\"model.pkg\", \"config.json\", \"vocab.txt\"]\n",
    "                ]\n",
    "            )\n",
    "            predictions_file = (\n",
    "                f\"serialization_dirs/probing_sentiment_{seq2vec_choice}_with_emb_on_5k_at_layer_{layer}/\"\n",
    "                f\"predictions_imdb_sentiment_5k_test.txt\"\n",
    "            )\n",
    "            predictions_present = os.path.exists(predictions_file)\n",
    "\n",
    "            if not model_files_present:\n",
    "                train_args[\"model_name\"] = \"probing\"\n",
    "                train_args[\"train_data_file_path\"] = imdb_sentiment_train_5k_path\n",
    "                train_args[\"validation_data_file_path\"] = imdb_sentiment_dev_path\n",
    "                train_args[\n",
    "                    \"base_model_dir\"\n",
    "                ] = f\"serialization_dirs/main_{seq2vec_choice}_5k_with_emb\"\n",
    "                train_args[\n",
    "                    \"suffix_name\"\n",
    "                ] = f\"_sentiment_{seq2vec_choice}_with_emb_on_5k_at_layer_{layer}\"\n",
    "                train_args[\"seq2vec_choice\"] = seq2vec_choice\n",
    "                train_args[\"layer_num\"] = layer\n",
    "                print(f\"Training the model with arguments:\\n{train_args}\")\n",
    "                train_wrapper(train_args)\n",
    "\n",
    "            if not predictions_present:\n",
    "                predict_args[\n",
    "                    \"load_serialization_dir\"\n",
    "                ] = f\"serialization_dirs/probing_sentiment_{seq2vec_choice}_with_emb_on_5k_at_layer_{layer}\"\n",
    "                predict_args[\"data_file_path\"] = imdb_sentiment_test_path\n",
    "                predict_args[\n",
    "                    \"base_model_dir\"\n",
    "                ] = f\"serialization_dirs/main_{seq2vec_choice}_5k_with_emb\"\n",
    "                predict_args[\n",
    "                    \"predictions_file\"\n",
    "                ] = f\"serialization_dirs/probing_sentiment_{seq2vec_choice}_with_emb_on_5k_at_layer_{layer}/predictions_imdb_sentiment_5k_test.txt\"\n",
    "                print(f\"Generating test predictions with arguments:\\n{predict_args}\")\n",
    "                test_wrapper(predict_args)\n",
    "\n",
    "            accuracy = evaluate(\"data/imdb_sentiment_test.jsonl\", predictions_file)\n",
    "            probing_accuracies[seq2vec_choice].append(accuracy)\n",
    "\n",
    "    for seq2vec_choice, layer_range in choices.items():\n",
    "        plt.plot(layer_range, probing_accuracies[seq2vec_choice])\n",
    "        plt.xlabel(\"Probing Layer\")\n",
    "        plt.ylabel(\"Accuracy\")\n",
    "        title = \"SentimentTask: Probing Performance vs Probing Layer\"\n",
    "        plt.title(title)\n",
    "        plt.savefig(\n",
    "            os.path.join(\n",
    "                \"plots\", f\"probing_performance_on_sentiment_task_{seq2vec_choice}.png\"\n",
    "            )\n",
    "        )\n",
    "        plt.show()\n",
    "        plt.clf()\n",
    "\n",
    "\n",
    "probing_layer_info()"
   ]
  },
  {
   "attachments": {},
   "cell_type": "markdown",
   "metadata": {},
   "source": [
    "The results for the DAN model show that the performance of the probing layers increases slightly as the number of layers increases. This is in line with our expectations, as the deeper layers will have more information to work with and will be able to capture more abstract representations of the input.\n",
    "\n",
    "The results for the GRU model show that the performance of the probing layers also increases as the number of layers increases; however, the performance drops slightly after the 3rd layer. This is not in line with our expectations, as we expected the performance to increase as the number of layers increases. This might be due to the fact that the GRU model is more complex and has more parameters, so it is more likely to overfit or suffer from vanishing gradients.\n",
    "\n",
    "Overall, the results generally match our expectations that the deeper layers are more likely to perform better. The improvements in performance are not as significant as we expected, and this might be due to the fact that the models are not optimally tuned.\n"
   ]
  },
  {
   "cell_type": "markdown",
   "metadata": {},
   "source": [
    "### Bigram Order\n"
   ]
  },
  {
   "cell_type": "markdown",
   "metadata": {},
   "source": [
    "In this task, we are looking at a direct comparison of DAN vs GRU in their ability to predict order of words. Specifically, the task is to classify whether a bigram is in correct order or reversed. For example, `New York` is in correct order and `York New` is reversed.\n",
    "\n",
    "We expect the GRU model to perform better than the DAN model on this task, as the GRU model is able to capture long-term dependencies in the data and model relationships between words in their specific order. The GRU model is better suited for classifying whether a bigram is in the correct order or reversed because its hidden states are able to capture the order of the words in the sentence. The DAN model might have difficulty distinguishing between correct and reversed bigrams since it primarily focuses on the semantic content of the input tokens without considering their order.\n"
   ]
  },
  {
   "cell_type": "code",
   "execution_count": null,
   "metadata": {},
   "outputs": [
    {
     "data": {
      "image/png": "[encoded data removed]",
      "text/plain": [
       "<Figure size 640x480 with 1 Axes>"
      ]
     },
     "metadata": {},
     "output_type": "display_data"
    }
   ],
   "source": [
    "def bigram_order():\n",
    "    seq2vec_name_to_last_layer = {\"dan\": 4, \"gru\": 4}\n",
    "    probing_accuracies = {}\n",
    "\n",
    "    for seq2vec_name, layer in seq2vec_name_to_last_layer.items():\n",
    "        # Check if Base Models have been trained first.\n",
    "        serialization_dir = os.path.join(\n",
    "            \"serialization_dirs\", f\"main_{seq2vec_name}_5k_with_emb\"\n",
    "        )\n",
    "        model_files_present = all(\n",
    "            [\n",
    "                os.path.exists(os.path.join(serialization_dir, file_name))\n",
    "                for file_name in [\"model.pkg\", \"config.json\", \"vocab.txt\"]\n",
    "            ]\n",
    "        )\n",
    "        if not model_files_present:\n",
    "            train_args[\"model_name\"] = \"main\"\n",
    "            train_args[\"num_epochs\"] = 8\n",
    "            train_args[\"embedding_dim\"] = 50\n",
    "            train_args[\"num_layers\"] = 4\n",
    "            train_args[\"batch_size\"] = 32\n",
    "            train_args[\"pretrained_embedding_file\"] = pretrained_embedding_path\n",
    "            train_args[\"train_data_file_path\"] = imdb_sentiment_train_5k_path\n",
    "            train_args[\"validation_data_file_path\"] = imdb_sentiment_dev_path\n",
    "            train_args[\"suffix_name\"] = f\"_{seq2vec_name}_5k_with_emb\"\n",
    "            train_args[\"seq2vec_choice\"] = seq2vec_name\n",
    "            train_args[\"base_model_dir\"] = serialization_dir\n",
    "            print(f\"Training the model with arguments:\\n{train_args}\")\n",
    "            train_wrapper(train_args)\n",
    "            predict_args[\"load_serialization_dir\"] = serialization_dir\n",
    "            predict_args[\"data_file_path\"] = imdb_sentiment_test_path\n",
    "            predict_args[\"predictions_file\"] = f\"main_{seq2vec_name}_5k_predictions.txt\"\n",
    "            print(f\"Generating test predictions with arguments:\\n{predict_args}\")\n",
    "            test_wrapper(predict_args)\n",
    "            print(f\"Evaluating model using the following arguments:\\n{predict_args}\")\n",
    "            evaluate_args[\"gold_data_path\"] = imdb_sentiment_test_path\n",
    "            evaluate_args[\n",
    "                \"prediction_data_path\"\n",
    "            ] = f\"main_{seq2vec_name}_5k_predictions.txt\"\n",
    "            evaluate_wrapper(evaluate_args)\n",
    "\n",
    "        serialization_dir = os.path.join(\n",
    "            \"serialization_dirs\",\n",
    "            f\"probing_bigram_order_{seq2vec_name}_with_emb_on_5k_at_layer_{layer}\",\n",
    "        )\n",
    "        model_files_present = all(\n",
    "            [\n",
    "                os.path.exists(os.path.join(serialization_dir, file_name))\n",
    "                for file_name in [\"model.pkg\", \"config.json\", \"vocab.txt\"]\n",
    "            ]\n",
    "        )\n",
    "        predictions_file = (\n",
    "            f\"serialization_dirs/probing_bigram_order_{seq2vec_name}_with_emb_on_5k_at_layer_{layer}/\"\n",
    "            f\"predictions_bigram_order_test.txt\"\n",
    "        )\n",
    "\n",
    "        if not model_files_present:\n",
    "            train_args[\"model_name\"] = \"probing\"\n",
    "            train_args[\"train_data_file_path\"] = f\"data/bigram_order_train.jsonl\"\n",
    "            train_args[\"validation_data_file_path\"] = f\"data/bigram_order_dev.jsonl\"\n",
    "            train_args[\n",
    "                \"base_model_dir\"\n",
    "            ] = f\"serialization_dirs/main_{seq2vec_name}_5k_with_emb\"\n",
    "            train_args[\n",
    "                \"suffix_name\"\n",
    "            ] = f\"_bigram_order_{seq2vec_name}_with_emb_on_5k_at_layer_{layer}\"\n",
    "            train_args[\"seq2vec_choice\"] = seq2vec_name\n",
    "            train_args[\"layer_num\"] = layer\n",
    "            train_args[\"num_epochs\"] = layer\n",
    "            print(f\"Training the model with arguments:\\n{train_args}\")\n",
    "            train_wrapper(train_args)\n",
    "\n",
    "        if not os.path.exists(predictions_file):\n",
    "            predict_args[\n",
    "                \"load_serialization_dir\"\n",
    "            ] = f\"serialization_dirs/probing_bigram_order_{seq2vec_name}_with_emb_on_5k_at_layer_{layer}\"\n",
    "            predict_args[\"data_file_path\"] = f\"data/bigram_order_test.jsonl\"\n",
    "            predict_args[\n",
    "                \"base_model_dir\"\n",
    "            ] = f\"serialization_dirs/main_{seq2vec_name}_5k_with_emb\"\n",
    "            predict_args[\n",
    "                \"predictions_file\"\n",
    "            ] = f\"serialization_dirs/probing_bigram_order_{seq2vec_name}_with_emb_on_5k_at_layer_{layer}/predictions_bigram_order_test.txt\"\n",
    "            print(f\"Generating test predictions with arguments:\\n{predict_args}\")\n",
    "            test_wrapper(predict_args)\n",
    "\n",
    "        accuracy = evaluate(\"data/bigram_order_test.jsonl\", predictions_file)\n",
    "        probing_accuracies[seq2vec_name] = accuracy\n",
    "\n",
    "    # Make the plots\n",
    "    seq2vec_names = [\"dan\", \"gru\"]\n",
    "    plt.xticks(range(2), seq2vec_names)\n",
    "    plt.bar(\n",
    "        range(2),\n",
    "        [probing_accuracies[\"dan\"], probing_accuracies[\"gru\"]],\n",
    "        align=\"center\",\n",
    "        alpha=0.5,\n",
    "    )\n",
    "    plt.ylabel(\"Accuracy\")\n",
    "    plt.title(\"BigramOrderTask: Probing Performance at Last Layer\")\n",
    "    plt.savefig(os.path.join(\"plots\", \"probing_performance_on_bigram_order_task.png\"))\n",
    "\n",
    "\n",
    "bigram_order()"
   ]
  },
  {
   "attachments": {},
   "cell_type": "markdown",
   "metadata": {},
   "source": [
    "Our observations match our expectations. GRU accuracy is slightly above 0.7 and DAN accuracy is slightly above 0.6. This shows that GRU is capable of recognizing the order of bigrams to a considerable extent due to its ability to capture long-term dependencies in the data. The DAN model, on the other hand, is not able to recognize the order of bigrams as well as GRU, as it primarily focuses on the semantic content of the input tokens without considering their order, but it is still able to perform better than random guessing.\n",
    "\n",
    "In the \"New York\" example, a GRU model might be able to recognize that \"New\" usually comes before \"York\" due to the sequential processing of input tokens and the information stored in its hidden states. However, a DAN model might not be able to recognize this relationship, as it averages the word embeddings and ignores the order. In this case, DAN might still be able to predict the correct order of the bigrams by chance, as the words \"New\" and \"York\" are both common words and are likely to appear in the training data.\n"
   ]
  },
  {
   "cell_type": "markdown",
   "metadata": {},
   "source": [
    "### Perturbation\n"
   ]
  },
  {
   "cell_type": "markdown",
   "metadata": {},
   "source": [
    "Lastly, we track what happens to a specific input (\"`the film performances were awesome`\") when it is run through the DAN and GRU networks trained on sentiment task. The word `awesome` is changed to `worst`, `okay` and `cool` for each run. We calculate and plots the L1 distances between layer representations of the original sentence with `awesome` in the end and the layer representations of the same sentence with the last word replaced by `worst`, `okay` and `cool` corresponding to both DAN and GRU models.\n",
    "\n",
    "Essentially, the plots portray how the representations (which are supposed to embody the sentiment) of the sentence change at every layer when the last word \"`awesome`\" is perturbed. We expect \"cool\" will be closest to \"awesome\" in every layer, as it is a positive word that is similar to \"awesome\" in meaning. \"okay\" will be the next closest word, as it is a neutral word that is similar to \"awesome\" in meaning. \"worst\" will be furthest from \"awesome\" in every layer, as it is a negative word that is not similar to \"awesome\" in meaning.\n"
   ]
  },
  {
   "cell_type": "code",
   "execution_count": null,
   "metadata": {},
   "outputs": [
    {
     "name": "stderr",
     "output_type": "stream",
     "text": [
      "100%|██████████| 1/1 [00:00<00:00, 1535.81it/s]\n",
      "100%|██████████| 1/1 [00:00<00:00, 8305.55it/s]\n"
     ]
    },
    {
     "data": {
      "image/png": "[encoded data removed]",
      "text/plain": [
       "<Figure size 640x480 with 1 Axes>"
      ]
     },
     "metadata": {},
     "output_type": "display_data"
    },
    {
     "data": {
      "image/png": "[encoded data removed]",
      "text/plain": [
       "<Figure size 640x480 with 1 Axes>"
      ]
     },
     "metadata": {},
     "output_type": "display_data"
    },
    {
     "data": {
      "text/plain": [
       "<Figure size 640x480 with 0 Axes>"
      ]
     },
     "metadata": {},
     "output_type": "display_data"
    }
   ],
   "source": [
    "def perturbation_analysis():\n",
    "    training_commands = []\n",
    "    device = torch.device(\"cuda:0\" if torch.cuda.is_available() else \"cpu\")\n",
    "    choices = {\"dan\": range(1, 4 + 1), \"gru\": range(1, 4 + 1)}\n",
    "\n",
    "    models = {\"dan\": None, \"gru\": None}\n",
    "    vocabs = {\"dan\": None, \"gru\": None}\n",
    "    for seq2vec_name, _ in choices.items():\n",
    "        serialization_dir = os.path.join(\n",
    "            \"serialization_dirs\", f\"main_{seq2vec_name}_5k_with_emb\"\n",
    "        )\n",
    "\n",
    "        vocab_path = os.path.join(serialization_dir, \"vocab.txt\")\n",
    "        config_path = os.path.join(serialization_dir, \"config.json\")\n",
    "        weights_path = os.path.join(serialization_dir, \"model.pkg\")\n",
    "\n",
    "        model_files_present = all(\n",
    "            [os.path.exists(path) for path in [vocab_path, config_path, weights_path]]\n",
    "        )\n",
    "\n",
    "        if not model_files_present:\n",
    "            train_args[\"model_name\"] = \"main\"\n",
    "            train_args[\"train_data_file_path\"] = imdb_sentiment_train_5k_path\n",
    "            train_args[\"validation_data_file_path\"] = f\"data/imdb_sentiment_dev.jsonl\"\n",
    "            train_args[\n",
    "                \"base_model_dir\"\n",
    "            ] = f\"serialization_dirs/main_{seq2vec_name}_5k_with_emb\"\n",
    "            train_args[\"suffix_name\"] = f\"_{seq2vec_name}_5k_with_emb\"\n",
    "            train_args[\"seq2vec_choice\"] = seq2vec_name\n",
    "            train_args[\"num_layers\"] = 4\n",
    "            train_args[\"num_epochs\"] = 8\n",
    "            print(f\"Training the model with arguments:\\n{train_args}\")\n",
    "            train_wrapper(train_args)\n",
    "\n",
    "        model = load_pretrained_model(serialization_dir, device=device)\n",
    "        models[seq2vec_name] = model\n",
    "\n",
    "        vocab, _ = load_vocabulary(vocab_path)\n",
    "        vocabs[seq2vec_name] = vocab\n",
    "\n",
    "    if training_commands:\n",
    "        print(\n",
    "            \"\\nFirst, please finish the missing model training using the following commands:\"\n",
    "        )\n",
    "        print(\"\\n\".join(training_commands))\n",
    "\n",
    "    original_instance = {\"text_tokens\": \"the film performances were awesome\".split()}\n",
    "    updates = [\"worst\", \"okay\", \"cool\"]\n",
    "\n",
    "    updated_instances = []\n",
    "    for update in updates:\n",
    "        updated_instance = copy.deepcopy(original_instance)\n",
    "        updated_instance[\"text_tokens\"][4] = update\n",
    "        updated_instances.append(updated_instance)\n",
    "    all_instances = [original_instance] + updated_instances\n",
    "\n",
    "    layer_representations = {}\n",
    "    for seq2vec_name in choices.keys():\n",
    "        model = models[seq2vec_name]\n",
    "        vocab = vocabs[seq2vec_name]\n",
    "        all_indexed_instances = index_instances(copy.deepcopy(all_instances), vocab)\n",
    "        batches = generate_batches(all_indexed_instances, 4)\n",
    "        layer_representations[seq2vec_name] = model(\n",
    "            inputs=torch.Tensor(batches[0][\"inputs\"]).long().to(device), training=False\n",
    "        )[\"layer_representations\"]\n",
    "\n",
    "    for seq2vec_name, representations in layer_representations.items():\n",
    "        representations = np.asarray(representations.cpu().detach())\n",
    "        differences_across_layers = {\"worst\": [], \"okay\": [], \"cool\": []}\n",
    "        for layer_num in choices[seq2vec_name]:\n",
    "            original_representation = representations[0, layer_num - 1, :]\n",
    "            updated_representations = representations[1:, layer_num - 1, :]\n",
    "            differences = [\n",
    "                sum(np.abs(original_representation - updated_representation))\n",
    "                for updated_representation in updated_representations\n",
    "            ]\n",
    "            differences_across_layers[\"worst\"].append(float(differences[0]))\n",
    "            differences_across_layers[\"okay\"].append(float(differences[1]))\n",
    "            differences_across_layers[\"cool\"].append(float(differences[2]))\n",
    "\n",
    "        # Make the plots\n",
    "        plt.plot(\n",
    "            choices[seq2vec_name], differences_across_layers[\"worst\"], label=\"worst\"\n",
    "        )\n",
    "        plt.plot(choices[seq2vec_name], differences_across_layers[\"okay\"], label=\"okay\")\n",
    "        plt.plot(choices[seq2vec_name], differences_across_layers[\"cool\"], label=\"cool\")\n",
    "        plt.xlabel(\"Layer\")\n",
    "        plt.ylabel(\"Perturbation Response\")\n",
    "        plt.legend()\n",
    "        title = f\"{seq2vec_name}: Perturbation Response vs Layer\"\n",
    "        plt.title(title)\n",
    "        plt.savefig(os.path.join(\"plots\", f\"perturbation_response_{seq2vec_name}.png\"))\n",
    "        plt.show()\n",
    "        plt.clf()\n",
    "\n",
    "\n",
    "perturbation_analysis()"
   ]
  },
  {
   "attachments": {},
   "cell_type": "markdown",
   "metadata": {},
   "source": [
    "We observe that \"cool\" was closest to \"awesome\", \"okay\" was the next closest word, and \"worst\" was furthest from \"awesome\", in every layer, as expected. This shows that the representations of the sentence change at every layer when the last word \"awesome\" is perturbed, and that the representations of the sentence are most similar to \"cool\" than \"okay\", and least to \"worst\", which is in line with our expectations.\n",
    "\n",
    "These observations show that both DAN and GRU models are able to capture the sentiment of the sentence, due to the abovementioned changes in the representations. There is some variation in the L1 distances across the layers within each model that might be due to the specific architecture and training dynamics of each model.\n"
   ]
  },
  {
   "cell_type": "markdown",
   "metadata": {},
   "source": [
    "## Credits\n",
    "\n",
    "This code was written with the help of Heeyoung Kwon, Jun Kang, Mohaddeseh Bastan, Harsh Trivedi, Matthew Matero, Nikita Soni, Sharvil Katariya, Yash Kumar Lal, Adithya V. Ganesan, Sounak Mondal, Md. Saqib Hasan, Dhruv Verma, Nishit Jain, Jasdeep Grover, and others. It is not subject to the license of this repository.\n"
   ]
  }
 ],
 "metadata": {
  "accelerator": "GPU",
  "colab": {
   "collapsed_sections": [
    "HOxUcykmUGxh",
    "Xq2S92R9VMSe",
    "t9QvTdwrUApn",
    "jYyhMZc7Zrg7"
   ],
   "provenance": []
  },
  "gpuClass": "standard",
  "kernelspec": {
   "display_name": "Python 3",
   "language": "python",
   "name": "python3"
  },
  "language_info": {
   "name": "python"
  },
  "vscode": {
   "interpreter": {
    "hash": "e7370f93d1d0cde622a1f8e1c04877d8463912d04d973331ad4851f04de6915a"
   }
  }
 },
 "nbformat": 4,
 "nbformat_minor": 0
}
